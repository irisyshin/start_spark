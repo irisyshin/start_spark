{
 "cells": [
  {
   "cell_type": "code",
   "execution_count": 1,
   "id": "9a2c85b3-073d-4710-80fd-b3f6d9ebc135",
   "metadata": {},
   "outputs": [
    {
     "name": "stdout",
     "output_type": "stream",
     "text": [
      "hello\n"
     ]
    }
   ],
   "source": [
    "print(\"hello\")"
   ]
  },
  {
   "cell_type": "code",
   "execution_count": 3,
   "id": "ad3057c9-e8d2-478f-a126-3fb06f48964a",
   "metadata": {},
   "outputs": [
    {
     "name": "stdout",
     "output_type": "stream",
     "text": [
      "/opt/conda/bin/python\n"
     ]
    }
   ],
   "source": [
    "!which python # 파이썬 위치 확인 "
   ]
  },
  {
   "cell_type": "code",
   "execution_count": 5,
   "id": "73e949c8-d41d-468a-ba51-d5210c66f0bb",
   "metadata": {},
   "outputs": [
    {
     "name": "stdout",
     "output_type": "stream",
     "text": [
      "Python 3.11.6\n"
     ]
    }
   ],
   "source": [
    "!python --version "
   ]
  },
  {
   "cell_type": "code",
   "execution_count": 7,
   "id": "333a4b8f-30e4-4427-93b3-a286b7dc0641",
   "metadata": {},
   "outputs": [
    {
     "name": "stdout",
     "output_type": "stream",
     "text": [
      "openjdk version \"17.0.8.1\" 2023-08-24\n",
      "OpenJDK Runtime Environment (build 17.0.8.1+1-Ubuntu-0ubuntu122.04)\n",
      "OpenJDK 64-Bit Server VM (build 17.0.8.1+1-Ubuntu-0ubuntu122.04, mixed mode, sharing)\n"
     ]
    }
   ],
   "source": [
    "!java -version"
   ]
  },
  {
   "cell_type": "code",
   "execution_count": 9,
   "id": "3c5638ca-c654-4547-87d4-4ecce2a93b14",
   "metadata": {},
   "outputs": [
    {
     "name": "stdout",
     "output_type": "stream",
     "text": [
      "/usr/bin/java\n"
     ]
    }
   ],
   "source": [
    "!which java # java location"
   ]
  },
  {
   "cell_type": "code",
   "execution_count": 13,
   "id": "7d5f3eb6-b761-47f9-bf31-dcd8735aed94",
   "metadata": {},
   "outputs": [
    {
     "name": "stdout",
     "output_type": "stream",
     "text": [
      "Name: pyspark\n",
      "Version: 3.5.0\n",
      "Summary: Apache Spark Python API\n",
      "Home-page: https://github.com/apache/spark/tree/master/python\n",
      "Author: Spark Developers\n",
      "Author-email: dev@spark.apache.org\n",
      "License: http://www.apache.org/licenses/LICENSE-2.0\n",
      "Location: /usr/local/spark/python\n",
      "Requires: py4j\n",
      "Required-by: \n"
     ]
    }
   ],
   "source": [
    "# 설치한 pyspark 확인, verson check\n",
    "!pip show pyspark"
   ]
  },
  {
   "cell_type": "code",
   "execution_count": 23,
   "id": "a08a3db4-d27e-429e-90fc-0d31a06b38f5",
   "metadata": {},
   "outputs": [
    {
     "data": {
      "text/plain": [
       "'/usr/local/spark'"
      ]
     },
     "execution_count": 23,
     "metadata": {},
     "output_type": "execute_result"
    }
   ],
   "source": [
    "#spark_home\n",
    "# not pythyon -> Java \n",
    "import os\n",
    "os.environ.get('SPARK_HOME')"
   ]
  },
  {
   "cell_type": "code",
   "execution_count": 24,
   "id": "1713271b-68ed-467b-b1fd-c7be1e4da092",
   "metadata": {},
   "outputs": [],
   "source": [
    "# 설정되어있지 않으면 아무것도 안뜸 \n",
    "os.environ.get('JAVA_HOME')\n"
   ]
  },
  {
   "cell_type": "code",
   "execution_count": 25,
   "id": "20825b88-4619-431f-8ad7-6c4fb56bc571",
   "metadata": {},
   "outputs": [
    {
     "data": {
      "text/plain": [
       "'/usr/local/spark/python/lib/py4j-0.10.9.7-src.zip:/usr/local/spark/python:'"
      ]
     },
     "execution_count": 25,
     "metadata": {},
     "output_type": "execute_result"
    }
   ],
   "source": [
    "os.environ.get('PYTHONPATH')"
   ]
  },
  {
   "cell_type": "code",
   "execution_count": 26,
   "id": "6b2250fb-ebbd-40c7-99a8-cf7377bc9afe",
   "metadata": {},
   "outputs": [],
   "source": [
    "import pyspark "
   ]
  },
  {
   "cell_type": "code",
   "execution_count": 32,
   "id": "f3032552-60ab-41a4-b1f8-bc4fe8cfc646",
   "metadata": {},
   "outputs": [],
   "source": [
    "from pyspark.sql import SparkSession\n",
    "spark = SparkSession.builder.appName('pyspark example1').getOrCreate() #chaining\n",
    "# sparkcontent.sparksession"
   ]
  },
  {
   "cell_type": "code",
   "execution_count": 33,
   "id": "72672725-a499-4b39-bc33-5c62b7253388",
   "metadata": {},
   "outputs": [],
   "source": [
    "# rdd ? 생성 \n",
    "spark.stop()"
   ]
  },
  {
   "cell_type": "code",
   "execution_count": 34,
   "id": "35ae72f6-a85a-45f3-8b8b-ab52861e8947",
   "metadata": {},
   "outputs": [],
   "source": [
    "spark = SparkSession.builder.appName('pyspark example1').getOrCreate() #chaining"
   ]
  },
  {
   "cell_type": "code",
   "execution_count": 35,
   "id": "6376391c-0002-478a-aa83-8a21e1353b5e",
   "metadata": {},
   "outputs": [
    {
     "data": {
      "text/html": [
       "\n",
       "            <div>\n",
       "                <p><b>SparkSession - in-memory</b></p>\n",
       "                \n",
       "        <div>\n",
       "            <p><b>SparkContext</b></p>\n",
       "\n",
       "            <p><a href=\"http://ff642a3922df:4040\">Spark UI</a></p>\n",
       "\n",
       "            <dl>\n",
       "              <dt>Version</dt>\n",
       "                <dd><code>v3.5.0</code></dd>\n",
       "              <dt>Master</dt>\n",
       "                <dd><code>local[*]</code></dd>\n",
       "              <dt>AppName</dt>\n",
       "                <dd><code>pyspark example1</code></dd>\n",
       "            </dl>\n",
       "        </div>\n",
       "        \n",
       "            </div>\n",
       "        "
      ],
      "text/plain": [
       "<pyspark.sql.session.SparkSession at 0x7fcaa5382990>"
      ]
     },
     "execution_count": 35,
     "metadata": {},
     "output_type": "execute_result"
    }
   ],
   "source": [
    "spark"
   ]
  },
  {
   "cell_type": "code",
   "execution_count": 36,
   "id": "a03cefff-2b45-4763-b701-54aebeb976ed",
   "metadata": {},
   "outputs": [
    {
     "data": {
      "text/plain": [
       "list"
      ]
     },
     "execution_count": 36,
     "metadata": {},
     "output_type": "execute_result"
    }
   ],
   "source": [
    "data = [('Alice',1),('Bob',2),('Charlie',3)]\n",
    "type(data)"
   ]
  },
  {
   "cell_type": "code",
   "execution_count": 40,
   "id": "efc0343d-b4f0-4bb5-a802-51738fa83907",
   "metadata": {},
   "outputs": [
    {
     "data": {
      "text/plain": [
       "Column<'Value[1]'>"
      ]
     },
     "execution_count": 40,
     "metadata": {},
     "output_type": "execute_result"
    }
   ],
   "source": [
    "# DATAFRAME 객체(분산객체)를 생성 <> 판다스의 데이터프레임이 아님 \n",
    "data1 = spark.createDataFrame( data, ['Name', 'Value'])\n",
    "data1[1][1]"
   ]
  },
  {
   "cell_type": "code",
   "execution_count": 41,
   "id": "00ecb100-5780-4938-837c-f19e044be571",
   "metadata": {},
   "outputs": [
    {
     "name": "stdout",
     "output_type": "stream",
     "text": [
      "+-------+-----+\n",
      "|   Name|Value|\n",
      "+-------+-----+\n",
      "|  Alice|    1|\n",
      "|    Bob|    2|\n",
      "|Charlie|    3|\n",
      "+-------+-----+\n",
      "\n"
     ]
    }
   ],
   "source": [
    " # 실제값 보기 \n",
    "data1.show()"
   ]
  },
  {
   "cell_type": "code",
   "execution_count": 43,
   "id": "e94f32d0-712b-499d-bce5-d3951003e002",
   "metadata": {},
   "outputs": [],
   "source": [
    "# RDD 객체 생성 \n",
    "spark = SparkSession.builder.appName('pyspark example1').getOrCreate()"
   ]
  },
  {
   "cell_type": "code",
   "execution_count": 46,
   "id": "85ff734c-3f9b-475a-9a79-0a9ca715f8ab",
   "metadata": {},
   "outputs": [
    {
     "data": {
      "text/plain": [
       "ParallelCollectionRDD[21] at readRDDFromFile at PythonRDD.scala:289"
      ]
     },
     "execution_count": 46,
     "metadata": {},
     "output_type": "execute_result"
    }
   ],
   "source": [
    "# 병렬로 관리되는 rdd \n",
    "rdd = spark.sparkContext.parallelize([1,2,3,4,5])\n",
    "rdd"
   ]
  },
  {
   "cell_type": "code",
   "execution_count": 47,
   "id": "778334fd-9f83-455d-9cf7-0cbc0501ea5b",
   "metadata": {},
   "outputs": [],
   "source": [
    "# show() -> 데이터 프레임의 함수 "
   ]
  },
  {
   "cell_type": "code",
   "execution_count": 49,
   "id": "551ff181-0cb4-4415-8295-0ddc34494a77",
   "metadata": {},
   "outputs": [
    {
     "data": {
      "text/plain": [
       "[1, 2, 3, 4, 5]"
      ]
     },
     "execution_count": 49,
     "metadata": {},
     "output_type": "execute_result"
    }
   ],
   "source": [
    "rdd .take(5) #rdd 객체를 출력하는 함수, 몇개 가져와 -> 지정해야함 "
   ]
  },
  {
   "cell_type": "code",
   "execution_count": 50,
   "id": "4feb54da-aa2d-4301-a9b7-8f1ee43afe98",
   "metadata": {},
   "outputs": [
    {
     "data": {
      "text/plain": [
       "PythonRDD[26] at RDD at PythonRDD.scala:53"
      ]
     },
     "execution_count": 50,
     "metadata": {},
     "output_type": "execute_result"
    }
   ],
   "source": [
    "# map 연산 : rdd 값으로 연산 \n",
    "# (안에 처리하고 싶은 내용 쓰기)\n",
    "squared_rdd = rdd.map(lambda x:x*x)\n",
    "squared_rdd"
   ]
  },
  {
   "cell_type": "code",
   "execution_count": 51,
   "id": "38c8275b-7ea1-4d6d-beb1-5626ee200e64",
   "metadata": {},
   "outputs": [
    {
     "data": {
      "text/plain": [
       "[1, 4, 9]"
      ]
     },
     "execution_count": 51,
     "metadata": {},
     "output_type": "execute_result"
    }
   ],
   "source": [
    "squared_rdd.take(3)"
   ]
  },
  {
   "cell_type": "code",
   "execution_count": 52,
   "id": "41907bf2-d157-46d6-9145-5f583cf14513",
   "metadata": {},
   "outputs": [
    {
     "data": {
      "text/plain": [
       "[1, 2, 3]"
      ]
     },
     "execution_count": 52,
     "metadata": {},
     "output_type": "execute_result"
    }
   ],
   "source": [
    "rdd.take(3)"
   ]
  },
  {
   "cell_type": "code",
   "execution_count": 54,
   "id": "8d80181f-48ff-4417-a043-0cf0de32673b",
   "metadata": {},
   "outputs": [
    {
     "data": {
      "text/plain": [
       "[1, 4, 9, 16, 25]"
      ]
     },
     "execution_count": 54,
     "metadata": {},
     "output_type": "execute_result"
    }
   ],
   "source": [
    "# 전체값을 출력 \n",
    "squared_rdd.collect()"
   ]
  },
  {
   "cell_type": "code",
   "execution_count": 55,
   "id": "362583f6-1292-42d1-9a8a-0f597e2edebc",
   "metadata": {},
   "outputs": [
    {
     "data": {
      "text/plain": [
       "DataFrame[Name: string, Value: bigint]"
      ]
     },
     "execution_count": 55,
     "metadata": {},
     "output_type": "execute_result"
    }
   ],
   "source": [
    "data1.filter(data1.Name == 'Bob')"
   ]
  },
  {
   "cell_type": "code",
   "execution_count": 58,
   "id": "9bd2d488-daf8-43a8-a5b4-09b8fdb7917e",
   "metadata": {},
   "outputs": [
    {
     "name": "stdout",
     "output_type": "stream",
     "text": [
      "+-------+-----+\n",
      "|   Name|Value|\n",
      "+-------+-----+\n",
      "|Charlie|    3|\n",
      "+-------+-----+\n",
      "\n"
     ]
    }
   ],
   "source": [
    "data1.filter(data1.Value > 2).show() # 데이터 프레임은 이러한 연산 가능 "
   ]
  },
  {
   "cell_type": "code",
   "execution_count": 62,
   "id": "38f72eb0-cc01-45be-8606-35857b95ab7a",
   "metadata": {},
   "outputs": [],
   "source": [
    "data1.createOrReplaceTempView('people') "
   ]
  },
  {
   "cell_type": "code",
   "execution_count": 66,
   "id": "da77f3d4-1b10-4db9-92c7-4c238678f706",
   "metadata": {},
   "outputs": [
    {
     "name": "stdout",
     "output_type": "stream",
     "text": [
      "+-------+-----+\n",
      "|   Name|Value|\n",
      "+-------+-----+\n",
      "|  Alice|    1|\n",
      "|    Bob|    2|\n",
      "|Charlie|    3|\n",
      "+-------+-----+\n",
      "\n"
     ]
    }
   ],
   "source": [
    "spark.sql('select * from people').show() # sql 생성 -> 데이터 프레임 만들어짐 "
   ]
  },
  {
   "cell_type": "code",
   "execution_count": null,
   "id": "d6ce2fa0-af3c-40e3-92d7-5472a5de43ae",
   "metadata": {},
   "outputs": [],
   "source": [
    "# data1.filter(data1.Value > 2).show() # 데이터 프레임은 이러한 연산 가능 "
   ]
  },
  {
   "cell_type": "code",
   "execution_count": 67,
   "id": "10fea635-4c0f-495c-9389-a8f597d50f1e",
   "metadata": {},
   "outputs": [
    {
     "name": "stdout",
     "output_type": "stream",
     "text": [
      "+----+-----+\n",
      "|Name|Value|\n",
      "+----+-----+\n",
      "| Bob|    2|\n",
      "+----+-----+\n",
      "\n"
     ]
    }
   ],
   "source": [
    "spark.sql('select * from people where Name=\"Bob\"').show()"
   ]
  },
  {
   "cell_type": "code",
   "execution_count": 69,
   "id": "04f92cb9-09c9-45aa-a391-c99260704cd2",
   "metadata": {},
   "outputs": [
    {
     "name": "stdout",
     "output_type": "stream",
     "text": [
      "+-------+-----+\n",
      "|   Name|Value|\n",
      "+-------+-----+\n",
      "|Charlie|    3|\n",
      "+-------+-----+\n",
      "\n"
     ]
    }
   ],
   "source": [
    "spark.sql('select * from people where Value > 2').show()"
   ]
  },
  {
   "cell_type": "code",
   "execution_count": 72,
   "id": "08185cc8-eeeb-4308-a834-b70b54604fff",
   "metadata": {},
   "outputs": [],
   "source": [
    "#MLlib -> ML library \n",
    "from pyspark.ml.regression import LinearRegression"
   ]
  },
  {
   "cell_type": "code",
   "execution_count": 74,
   "id": "198d11d4-5094-4751-97ab-87357661404c",
   "metadata": {},
   "outputs": [],
   "source": [
    "# array 형식이 아니니 numpy \n",
    "import numpy as np"
   ]
  },
  {
   "cell_type": "code",
   "execution_count": 75,
   "id": "ca0a6c06-0457-4f87-abb7-5afe15795b70",
   "metadata": {},
   "outputs": [],
   "source": [
    "from pyspark.ml.feature import VectorAssembler"
   ]
  },
  {
   "cell_type": "code",
   "execution_count": 77,
   "id": "31f7345a-ec74-4bf5-a693-d8b89ee53764",
   "metadata": {},
   "outputs": [
    {
     "name": "stdout",
     "output_type": "stream",
     "text": [
      "+-------+---+\n",
      "|   Name|Age|\n",
      "+-------+---+\n",
      "|  Alice| 25|\n",
      "|    Bob| 30|\n",
      "|Charlie| 33|\n",
      "+-------+---+\n",
      "\n"
     ]
    }
   ],
   "source": [
    "data_age = [('Alice',25),('Bob',30),('Charlie',33)]\n",
    "data2 = spark.createDataFrame( data_age, ['Name', 'Age'])\n",
    "data2.show()"
   ]
  },
  {
   "cell_type": "code",
   "execution_count": 83,
   "id": "8979f27c-1c4c-47f0-b6e1-777ef5c5b0a3",
   "metadata": {},
   "outputs": [],
   "source": [
    "assembler = VectorAssembler(inputCols = ['Age'], outputCol='features') #feature 추가 "
   ]
  },
  {
   "cell_type": "code",
   "execution_count": 84,
   "id": "591e04f4-b9e1-41a5-9172-32744fd79468",
   "metadata": {},
   "outputs": [],
   "source": [
    "vector_df = assembler.transform(data2) #하나로 묶인 vector "
   ]
  },
  {
   "cell_type": "code",
   "execution_count": 85,
   "id": "45c68530-75b4-46dd-bf7a-2f7eda6b09f8",
   "metadata": {},
   "outputs": [],
   "source": [
    "lr = LinearRegression(featuresCol='features', labelCol='Age')\n",
    "model = lr.fit(vector_df)"
   ]
  },
  {
   "cell_type": "code",
   "execution_count": 93,
   "id": "1f05cea0-d4ad-42d4-afc6-63da19e21dbb",
   "metadata": {},
   "outputs": [
    {
     "name": "stdout",
     "output_type": "stream",
     "text": [
      "+-------+---+--------+-----------------+\n",
      "|   Name|Age|features|       prediction|\n",
      "+-------+---+--------+-----------------+\n",
      "|  Alice| 25|  [25.0]|24.99999999999993|\n",
      "|    Bob| 30|  [30.0]|30.00000000000001|\n",
      "|Charlie| 33|  [33.0]|33.00000000000006|\n",
      "+-------+---+--------+-----------------+\n",
      "\n"
     ]
    }
   ],
   "source": [
    "pred = model.transform(vector_df) #예측도 데이터 프레임????/\n",
    "pred.show() # dataframe 이니까 show()"
   ]
  },
  {
   "cell_type": "code",
   "execution_count": 95,
   "id": "b70328ca-1dff-44da-9b2a-2d1492c57724",
   "metadata": {},
   "outputs": [],
   "source": [
    "spark.stop()"
   ]
  },
  {
   "cell_type": "code",
   "execution_count": 96,
   "id": "d663e04a-ac33-4f3c-9b01-41b978dd0dc6",
   "metadata": {},
   "outputs": [],
   "source": [
    "#streaming, HOST 필요 "
   ]
  },
  {
   "cell_type": "code",
   "execution_count": 97,
   "id": "05456e71-0f68-423d-a84d-8ecaf982fbf1",
   "metadata": {},
   "outputs": [],
   "source": [
    "from pyspark.sql.functions import explode\n",
    "from pyspark.sql.functions import split"
   ]
  },
  {
   "cell_type": "code",
   "execution_count": 98,
   "id": "7f93f19b-0451-4e91-b3df-1f59b5123589",
   "metadata": {},
   "outputs": [],
   "source": [
    "spark = SparkSession.builder.appName('pyspark example1').getOrCreate()\n"
   ]
  },
  {
   "cell_type": "code",
   "execution_count": 99,
   "id": "9379869f-d99f-4c41-a6dd-d231cde9319b",
   "metadata": {},
   "outputs": [],
   "source": [
    "lines = spark.readStream.format('socket')\\\n",
    "    .option('host', 'localhost')\\\n",
    "    .option('port', 9999)\\\n",
    "    .load() #streamming data"
   ]
  },
  {
   "cell_type": "markdown",
   "id": "8ac2a175-362b-41ce-bd8d-eba7276125ae",
   "metadata": {},
   "source": [
    "aaaa bbbb cccc hello"
   ]
  },
  {
   "cell_type": "markdown",
   "id": "ce620506-ebd9-4e7e-ac1b-52001e709417",
   "metadata": {
    "scrolled": true
   },
   "source": [
    "words = lines.select(explode(split(lines.value, ' ')).alias('words')"
   ]
  },
  {
   "cell_type": "code",
   "execution_count": 103,
   "id": "09932fed-c2d8-48f9-b16a-f41790baea7d",
   "metadata": {},
   "outputs": [],
   "source": [
    "spark.stop()"
   ]
  },
  {
   "cell_type": "code",
   "execution_count": null,
   "id": "b04baf23-4d00-4564-9db2-a29ff2a92e90",
   "metadata": {},
   "outputs": [],
   "source": []
  }
 ],
 "metadata": {
  "kernelspec": {
   "display_name": "Python 3 (ipykernel)",
   "language": "python",
   "name": "python3"
  },
  "language_info": {
   "codemirror_mode": {
    "name": "ipython",
    "version": 3
   },
   "file_extension": ".py",
   "mimetype": "text/x-python",
   "name": "python",
   "nbconvert_exporter": "python",
   "pygments_lexer": "ipython3",
   "version": "3.11.6"
  }
 },
 "nbformat": 4,
 "nbformat_minor": 5
}
