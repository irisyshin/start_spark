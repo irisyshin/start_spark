{
 "cells": [
  {
   "cell_type": "code",
   "execution_count": 1,
   "id": "6533533d-233e-472c-aff8-c673b4de64f7",
   "metadata": {},
   "outputs": [],
   "source": [
    "from pyspark.sql import SparkSession\n",
    "\n",
    "spark = SparkSession.builder \\\n",
    "    .appName(\"restaurant-review-average\") \\\n",
    "    .master(\"local[*]\") \\\n",
    "    .getOrCreate()"
   ]
  },
  {
   "cell_type": "code",
   "execution_count": 3,
   "id": "688cdfac-b471-403f-b8e6-9dc85a1c9c08",
   "metadata": {},
   "outputs": [],
   "source": [
    "sc = spark.sparkContext"
   ]
  },
  {
   "cell_type": "code",
   "execution_count": 4,
   "id": "a38df630-0799-4eea-bdc7-b03a349e9d25",
   "metadata": {},
   "outputs": [
    {
     "data": {
      "text/plain": [
       "2"
      ]
     },
     "execution_count": 4,
     "metadata": {},
     "output_type": "execute_result"
    }
   ],
   "source": [
    "sc.defaultParallelism"
   ]
  },
  {
   "cell_type": "code",
   "execution_count": 5,
   "id": "e4b9728d-a8a1-442f-b946-e626a303cf3c",
   "metadata": {},
   "outputs": [],
   "source": [
    "sc.setLogLevel('INFO')"
   ]
  },
  {
   "cell_type": "code",
   "execution_count": 6,
   "id": "272f371f-418f-41bb-9e81-159b6a250fb5",
   "metadata": {},
   "outputs": [
    {
     "data": {
      "text/plain": [
       "[('spark.driver.host', '67eb04197dfe'),\n",
       " ('spark.app.name', 'restaurant-review-average'),\n",
       " ('spark.executor.id', 'driver'),\n",
       " ('spark.app.id', 'local-1754273750168'),\n",
       " ('spark.app.startTime', '1754273749624'),\n",
       " ('spark.driver.extraJavaOptions',\n",
       "  '-Djava.net.preferIPv6Addresses=false -XX:+IgnoreUnrecognizedVMOptions --add-opens=java.base/java.lang=ALL-UNNAMED --add-opens=java.base/java.lang.invoke=ALL-UNNAMED --add-opens=java.base/java.lang.reflect=ALL-UNNAMED --add-opens=java.base/java.io=ALL-UNNAMED --add-opens=java.base/java.net=ALL-UNNAMED --add-opens=java.base/java.nio=ALL-UNNAMED --add-opens=java.base/java.util=ALL-UNNAMED --add-opens=java.base/java.util.concurrent=ALL-UNNAMED --add-opens=java.base/java.util.concurrent.atomic=ALL-UNNAMED --add-opens=java.base/sun.nio.ch=ALL-UNNAMED --add-opens=java.base/sun.nio.cs=ALL-UNNAMED --add-opens=java.base/sun.security.action=ALL-UNNAMED --add-opens=java.base/sun.util.calendar=ALL-UNNAMED --add-opens=java.security.jgss/sun.security.krb5=ALL-UNNAMED -Djdk.reflect.useDirectMethodHandle=false'),\n",
       " ('spark.driver.port', '37627'),\n",
       " ('spark.rdd.compress', 'True'),\n",
       " ('spark.app.submitTime', '1754273749519'),\n",
       " ('spark.serializer.objectStreamReset', '100'),\n",
       " ('spark.master', 'local[*]'),\n",
       " ('spark.submit.pyFiles', ''),\n",
       " ('spark.submit.deployMode', 'client'),\n",
       " ('spark.ui.showConsoleProgress', 'true'),\n",
       " ('spark.executor.extraJavaOptions',\n",
       "  '-Djava.net.preferIPv6Addresses=false -XX:+IgnoreUnrecognizedVMOptions --add-opens=java.base/java.lang=ALL-UNNAMED --add-opens=java.base/java.lang.invoke=ALL-UNNAMED --add-opens=java.base/java.lang.reflect=ALL-UNNAMED --add-opens=java.base/java.io=ALL-UNNAMED --add-opens=java.base/java.net=ALL-UNNAMED --add-opens=java.base/java.nio=ALL-UNNAMED --add-opens=java.base/java.util=ALL-UNNAMED --add-opens=java.base/java.util.concurrent=ALL-UNNAMED --add-opens=java.base/java.util.concurrent.atomic=ALL-UNNAMED --add-opens=java.base/sun.nio.ch=ALL-UNNAMED --add-opens=java.base/sun.nio.cs=ALL-UNNAMED --add-opens=java.base/sun.security.action=ALL-UNNAMED --add-opens=java.base/sun.util.calendar=ALL-UNNAMED --add-opens=java.security.jgss/sun.security.krb5=ALL-UNNAMED -Djdk.reflect.useDirectMethodHandle=false')]"
      ]
     },
     "execution_count": 6,
     "metadata": {},
     "output_type": "execute_result"
    }
   ],
   "source": [
    "sc.getConf().getAll()"
   ]
  },
  {
   "cell_type": "code",
   "execution_count": 5,
   "id": "821ba769-86e9-4b8b-9ae2-24f4bccd9695",
   "metadata": {
    "scrolled": true
   },
   "outputs": [
    {
     "data": {
      "text/plain": [
       "[(0, '짜장면', '중식', 125), (1, '짬뽕', '중식', 235), (2, '김밥', '분식', 32)]"
      ]
     },
     "execution_count": 5,
     "metadata": {},
     "output_type": "execute_result"
    }
   ],
   "source": [
    "data = [\n",
    "    (0, \"짜장면\", \"중식\", 125),\n",
    "    (1, \"짬뽕\", \"중식\", 235),\n",
    "    (2, \"김밥\", \"분식\", 32),\n",
    "    (3, \"떡볶이\", \"분식\", 534),\n",
    "    (4, \"라멘\", \"일식\", 223),\n",
    "    (5, \"돈가스\", \"일식\", 52),\n",
    "    (6, \"우동\", \"일식\", 12),\n",
    "    (7, \"쌀국수\", \"아시안\", 312),\n",
    "    (8, \"햄버거\", \"패스트푸드\", 12),\n",
    "    (9, \"치킨\", \"패스트푸드\", 23),\n",
    "]\n",
    "\n",
    "rdd1 = sc.parallelize(data)\n",
    "rdd1.take(3)"
   ]
  },
  {
   "cell_type": "code",
   "execution_count": 6,
   "id": "fb43c296-123b-4d77-8003-f5d209fbcf44",
   "metadata": {},
   "outputs": [
    {
     "data": {
      "text/plain": [
       "['id,item,cateogry,reviews,',\n",
       " '0,짜장면,중식,125,',\n",
       " '1,짬뽕,중식,235,',\n",
       " '2,김밥,분식,32,',\n",
       " '3,떡볶이,분식,534,']"
      ]
     },
     "execution_count": 6,
     "metadata": {},
     "output_type": "execute_result"
    }
   ],
   "source": [
    "lines = sc.textFile(\"file:///home/jovyan/work/learning_spark_data/restaurant_reviews.csv\")\n",
    "\n",
    "lines.take(5)"
   ]
  },
  {
   "cell_type": "code",
   "execution_count": 7,
   "id": "eddf23fa-33f8-4cc1-9415-14ac0dcde50c",
   "metadata": {},
   "outputs": [
    {
     "name": "stdout",
     "output_type": "stream",
     "text": [
      "11\n",
      "id,item,cateogry,reviews,\n",
      "['0,짜장면,중식,125,', '1,짬뽕,중식,235,', '2,김밥,분식,32,']\n"
     ]
    }
   ],
   "source": [
    "# 총 건수 확인 \n",
    "print(lines.count())\n",
    "# 첫 줄, 데이터 분할\n",
    "header = lines.first()\n",
    "print(header)\n",
    "# map으로 split \n",
    "# header는 제거\n",
    "datas = lines.filter(lambda row : row != header)\n",
    "            #.map(lambda row : row.split(','))\n",
    "print(datas.take(3))"
   ]
  },
  {
   "cell_type": "code",
   "execution_count": 9,
   "id": "df0f3f45-5289-4b35-97da-9b06c085667d",
   "metadata": {},
   "outputs": [],
   "source": [
    "# row? 함수?????\n",
    "def parse(row):\n",
    "    fields = row.split(',')\n",
    "\n",
    "    category = fields[2] # category\n",
    "\n",
    "    # reviews는 정수로 parse \n",
    "    reviews = fields[3]\n",
    "    reviews = int(reviews)\n",
    "\n",
    "    return category, reviews"
   ]
  },
  {
   "cell_type": "code",
   "execution_count": 10,
   "id": "f629c493-ab05-466d-a9cc-8e4827a0b4db",
   "metadata": {},
   "outputs": [
    {
     "data": {
      "text/plain": [
       "('중식', 125)"
      ]
     },
     "execution_count": 10,
     "metadata": {},
     "output_type": "execute_result"
    }
   ],
   "source": [
    "parse('0,짜장면,중식,125,')"
   ]
  },
  {
   "cell_type": "code",
   "execution_count": 11,
   "id": "f4ea7f1a-eddd-4a8d-ae4b-550faf5b805c",
   "metadata": {},
   "outputs": [],
   "source": [
    "category_reviews = datas.map(parse)\n"
   ]
  },
  {
   "cell_type": "code",
   "execution_count": 12,
   "id": "55a1e9c3-b3fe-4fc9-84a4-e3174bd9b851",
   "metadata": {},
   "outputs": [
    {
     "data": {
      "text/plain": [
       "[('중식', 125),\n",
       " ('중식', 235),\n",
       " ('분식', 32),\n",
       " ('분식', 534),\n",
       " ('일식', 223),\n",
       " ('일식', 52),\n",
       " ('일식', 12),\n",
       " ('아시안', 312),\n",
       " ('패스트푸드', 12),\n",
       " ('패스트푸드', 23)]"
      ]
     },
     "execution_count": 12,
     "metadata": {},
     "output_type": "execute_result"
    }
   ],
   "source": [
    "category_reviews = datas.map(parse)\n",
    "category_reviews.collect()"
   ]
  },
  {
   "cell_type": "code",
   "execution_count": 13,
   "id": "ac01a91a-b86f-43d5-bf71-22e1f9a584b7",
   "metadata": {},
   "outputs": [
    {
     "data": {
      "text/plain": [
       "[('중식', (125, 1)),\n",
       " ('중식', (235, 1)),\n",
       " ('분식', (32, 1)),\n",
       " ('분식', (534, 1)),\n",
       " ('일식', (223, 1)),\n",
       " ('일식', (52, 1)),\n",
       " ('일식', (12, 1)),\n",
       " ('아시안', (312, 1)),\n",
       " ('패스트푸드', (12, 1)),\n",
       " ('패스트푸드', (23, 1))]"
      ]
     },
     "execution_count": 13,
     "metadata": {},
     "output_type": "execute_result"
    }
   ],
   "source": [
    "category_review_count = category_reviews.mapValues(lambda x : (x, 1)) # x는 review 개수\n",
    "category_review_count.collect()"
   ]
  },
  {
   "cell_type": "code",
   "execution_count": 62,
   "id": "99f6e7b3-ee53-4fef-b90a-929ef6a70a8a",
   "metadata": {},
   "outputs": [
    {
     "data": {
      "text/plain": [
       "[('중식', (360, 2)),\n",
       " ('분식', (566, 2)),\n",
       " ('일식', (287, 3)),\n",
       " ('아시안', (312, 1)),\n",
       " ('패스트푸드', (35, 2))]"
      ]
     },
     "execution_count": 62,
     "metadata": {},
     "output_type": "execute_result"
    }
   ],
   "source": [
    "#같은 key(카테고리)끼리 x와 y의 (리뷰 수 합계, 개수 합계)를 누적\n",
    "#첫번째 중식 x, 두번째 중식 y , [0] 은 리뷰수, [1] 은 개수 -> 같은 키끼리 행을 바꿔가며 계속 누적해 나간다.\n",
    "reduced = category_review_count.reduceByKey(lambda x, y : (x[0] + y[0], x[1] + y[1]))\n",
    "reduced.collect()"
   ]
  },
  {
   "cell_type": "code",
   "execution_count": 64,
   "id": "582a97d1-1baf-4b1a-8fd0-5085139001a8",
   "metadata": {},
   "outputs": [
    {
     "data": {
      "text/plain": [
       "[('중식', 180.0), ('분식', 283.0), ('일식', 95.7), ('아시안', 312.0), ('패스트푸드', 17.5)]"
      ]
     },
     "execution_count": 64,
     "metadata": {},
     "output_type": "execute_result"
    }
   ],
   "source": [
    "average = reduced.mapValues(lambda x: round(x[0] / x[1], 1))\n",
    "average.collect()"
   ]
  },
  {
   "cell_type": "markdown",
   "id": "6c537f29-3a84-4d21-b9fd-8f0dea3d0518",
   "metadata": {},
   "source": [
    "map(key,vlaue) -> "
   ]
  },
  {
   "cell_type": "markdown",
   "id": "1a24b1e3-7ce6-47f7-b8a0-4d411a53b3fd",
   "metadata": {},
   "source": [
    "# Narrow Transformation \r\n",
    "\r\n",
    "- 1:1 변환 → 하나의 열을 다룰 때 다른 데이터가 필요 없는 경우\r\n",
    "- filter(), map(), flatMap(), sample(), unio\n",
    "\n",
    "Narrow vs Wide \n",
    "- Narrow: 하나의 파티션에서만 연산됨 (suffle없음)\n",
    "- Wide: 여러 파티션에서 데이터를 재배치(suffle)함 n()"
   ]
  },
  {
   "cell_type": "markdown",
   "id": "720bdcd8-0493-419f-aeab-ad728229e7bd",
   "metadata": {},
   "source": [
    "## flatmap() \n",
    "- 요소가 하나하나 떠렁져있었는데 하나의 리스트로 바꾸어 줌 \n",
    "- 텍스트 분석할떄 댓글 , 리스트로 바꾸어야 할 떄 사용 \n"
   ]
  },
  {
   "cell_type": "code",
   "execution_count": 17,
   "id": "02aa6006-3ae8-4926-90d1-716f0e0df721",
   "metadata": {},
   "outputs": [
    {
     "data": {
      "text/plain": [
       "[1, 2, 2, 3, 3, 4]"
      ]
     },
     "execution_count": 17,
     "metadata": {},
     "output_type": "execute_result"
    }
   ],
   "source": [
    "rdd_flatmap = rdd.flatMap(lambda x: [x, x + 1])  # => [1, 2, 2, 3, 3, 4]\n",
    "rdd_flatmap.collect()"
   ]
  },
  {
   "cell_type": "code",
   "execution_count": 21,
   "id": "410df86c-cf22-4d78-a11a-ec5f3e0290cf",
   "metadata": {},
   "outputs": [
    {
     "data": {
      "text/plain": [
       "[[1, 2], [2, 3], [3, 4]]"
      ]
     },
     "execution_count": 21,
     "metadata": {},
     "output_type": "execute_result"
    }
   ],
   "source": [
    "rdd = sc.parallelize([1, 2, 3])\n",
    "rdd_map = rdd.map(lambda x: [x, x + 1])  # => [[1, 2], [2, 3], [3, 4]]\n",
    "rdd_map.collect()"
   ]
  },
  {
   "cell_type": "markdown",
   "id": "3fd92450-b80a-4e86-9a0d-8c5ad133684e",
   "metadata": {},
   "source": [
    "movie 예제 (narrow transformation?)"
   ]
  },
  {
   "cell_type": "code",
   "execution_count": 18,
   "id": "83c6e447-27d2-44b9-aff1-16b3b64ac15a",
   "metadata": {},
   "outputs": [],
   "source": [
    "movies = [\n",
    "    \"그린 북\",\n",
    "    \"매트릭스\",\n",
    "    \"토이 스토리\",\n",
    "    \"캐스트 어웨이\",\n",
    "    \"포드 V 페라리\",\n",
    "    \"보헤미안 랩소디\",\n",
    "    \"빽 투 더 퓨처\",\n",
    "    \"반지의 제왕\",\n",
    "    \"죽은 시인의 사회\"\n",
    "]"
   ]
  },
  {
   "cell_type": "code",
   "execution_count": 19,
   "id": "e3562209-4151-4207-ad19-e27332a8fead",
   "metadata": {},
   "outputs": [
    {
     "data": {
      "text/plain": [
       "ParallelCollectionRDD[16] at readRDDFromFile at PythonRDD.scala:289"
      ]
     },
     "execution_count": 19,
     "metadata": {},
     "output_type": "execute_result"
    }
   ],
   "source": [
    "moviesRDD = sc.parallelize(movies)\n",
    "moviesRDD"
   ]
  },
  {
   "cell_type": "code",
   "execution_count": 20,
   "id": "257f0626-052b-4c05-bfda-a8c49ff4e242",
   "metadata": {},
   "outputs": [
    {
     "data": {
      "text/plain": [
       "['그린',\n",
       " '북',\n",
       " '매트릭스',\n",
       " '토이',\n",
       " '스토리',\n",
       " '캐스트',\n",
       " '어웨이',\n",
       " '포드',\n",
       " 'V',\n",
       " '페라리',\n",
       " '보헤미안',\n",
       " '랩소디',\n",
       " '빽',\n",
       " '투',\n",
       " '더',\n",
       " '퓨처',\n",
       " '반지의',\n",
       " '제왕',\n",
       " '죽은',\n",
       " '시인의',\n",
       " '사회']"
      ]
     },
     "execution_count": 20,
     "metadata": {},
     "output_type": "execute_result"
    }
   ],
   "source": [
    "#job 추가 x\n",
    "flatMovies = moviesRDD.flatMap(lambda x : x.split(\" \"))\n",
    "flatMovies.collect()"
   ]
  },
  {
   "cell_type": "code",
   "execution_count": 22,
   "id": "de1d10bd-4b7d-4a4f-ae50-0e0b53db0394",
   "metadata": {},
   "outputs": [],
   "source": [
    "# 집합 Transformation"
   ]
  },
  {
   "cell_type": "code",
   "execution_count": 23,
   "id": "af17df4a-8f04-4596-809f-d36839144a9b",
   "metadata": {},
   "outputs": [],
   "source": [
    "num1 = sc.parallelize([1, 2, 3, 4, 5])\n",
    "num2 = sc.parallelize([4, 5, 6, 7, 8, 9, 10])"
   ]
  },
  {
   "cell_type": "code",
   "execution_count": 24,
   "id": "d001361f-5bcf-442f-b744-e8632aa14cdc",
   "metadata": {},
   "outputs": [
    {
     "data": {
      "text/plain": [
       "[4, 5]"
      ]
     },
     "execution_count": 24,
     "metadata": {},
     "output_type": "execute_result"
    }
   ],
   "source": [
    "num1.intersection(num2).collect()"
   ]
  },
  {
   "cell_type": "code",
   "execution_count": 26,
   "id": "bb58c956-dd18-4241-a1cd-c62cf02f76d2",
   "metadata": {},
   "outputs": [],
   "source": [
    "# 합집합 구하기 - union"
   ]
  },
  {
   "cell_type": "code",
   "execution_count": 27,
   "id": "e6ee9c89-b0ab-4aa3-a1fc-0899dd15a924",
   "metadata": {},
   "outputs": [
    {
     "data": {
      "text/plain": [
       "UnionRDD[32] at union at NativeMethodAccessorImpl.java:0"
      ]
     },
     "execution_count": 27,
     "metadata": {},
     "output_type": "execute_result"
    }
   ],
   "source": [
    "num_union = num1.union(num2)\n",
    "num_union"
   ]
  },
  {
   "cell_type": "code",
   "execution_count": 28,
   "id": "b1198258-de7a-4ec9-bff6-8f923e7c75fe",
   "metadata": {},
   "outputs": [
    {
     "data": {
      "text/plain": [
       "[1, 2, 3, 4, 5, 4, 5, 6, 7, 8, 9, 10]"
      ]
     },
     "execution_count": 28,
     "metadata": {},
     "output_type": "execute_result"
    }
   ],
   "source": [
    "num_union.collect()"
   ]
  },
  {
   "cell_type": "code",
   "execution_count": 29,
   "id": "e03a1615-fb96-4877-90bf-169abf5d6091",
   "metadata": {},
   "outputs": [],
   "source": [
    "#차집합 구하기 \n"
   ]
  },
  {
   "cell_type": "code",
   "execution_count": 30,
   "id": "d96ace21-7b75-4d4a-a684-0fe55878419e",
   "metadata": {},
   "outputs": [
    {
     "data": {
      "text/plain": [
       "[1, 2, 3]"
      ]
     },
     "execution_count": 30,
     "metadata": {},
     "output_type": "execute_result"
    }
   ],
   "source": [
    "num1.subtract(num2).collect()"
   ]
  },
  {
   "cell_type": "code",
   "execution_count": 32,
   "id": "ad488a44-6b32-4f6a-af4b-3c97de101a80",
   "metadata": {},
   "outputs": [],
   "source": [
    "# 데이터 랜덤 추출 - sample(withReplacement, fraction, seed=None)|"
   ]
  },
  {
   "cell_type": "code",
   "execution_count": 36,
   "id": "29706264-ec32-4701-9b43-28210ba7954d",
   "metadata": {},
   "outputs": [
    {
     "data": {
      "text/plain": [
       "[1, 4, 9, 10]"
      ]
     },
     "execution_count": 36,
     "metadata": {},
     "output_type": "execute_result"
    }
   ],
   "source": [
    "# withReplacement : True -> 중복 추출\n",
    "num_union.sample(True, 0.3).collect()"
   ]
  },
  {
   "cell_type": "code",
   "execution_count": 37,
   "id": "ff2e7e27-78e3-48d4-8314-48814f3a49d5",
   "metadata": {},
   "outputs": [
    {
     "data": {
      "text/plain": [
       "[1, 3, 4, 5, 4, 5, 7, 8, 9, 10]"
      ]
     },
     "execution_count": 37,
     "metadata": {},
     "output_type": "execute_result"
    }
   ],
   "source": [
    "\n",
    "# withReplacement : False -> 중복 X\n",
    "num_union.sample(False, 0.7).collect()"
   ]
  },
  {
   "cell_type": "code",
   "execution_count": 38,
   "id": "545e2abb-0062-499c-9bb7-e30a3ee42258",
   "metadata": {},
   "outputs": [
    {
     "data": {
      "text/plain": [
       "[4, 5, 5, 5, 7]"
      ]
     },
     "execution_count": 38,
     "metadata": {},
     "output_type": "execute_result"
    }
   ],
   "source": [
    "# 랜덤을 고정해서 항상 같은 결과가 나올 수 있도록\n",
    "num_union.sample(True, 0.5, seed=42).collect()"
   ]
  },
  {
   "cell_type": "code",
   "execution_count": 39,
   "id": "5e3833e6-b58e-4696-9fce-26cb6dcb63eb",
   "metadata": {},
   "outputs": [],
   "source": [
    "# Wide Transformations"
   ]
  },
  {
   "cell_type": "code",
   "execution_count": 42,
   "id": "1aea716d-7f75-476c-8cc9-ab6553b309a1",
   "metadata": {},
   "outputs": [
    {
     "data": {
      "text/plain": [
       "ParallelCollectionRDD[45] at readRDDFromFile at PythonRDD.scala:289"
      ]
     },
     "execution_count": 42,
     "metadata": {},
     "output_type": "execute_result"
    }
   ],
   "source": [
    "foods = sc.parallelize([\n",
    "    \"짜장면\", \"마라탕\", \"짬뽕\", \"떡볶이\", \"쌀국수\", \"짬뽕\", \"짜장면\", \"짜장면\", \"짜장면\", \"라면\", \"우동\", \"라면\"\n",
    "])\n",
    "foods"
   ]
  },
  {
   "cell_type": "code",
   "execution_count": 43,
   "id": "b5d72be4-09df-4b88-8037-d003672decd2",
   "metadata": {},
   "outputs": [
    {
     "data": {
      "text/plain": [
       "PythonRDD[50] at RDD at PythonRDD.scala:53"
      ]
     },
     "execution_count": 43,
     "metadata": {},
     "output_type": "execute_result"
    }
   ],
   "source": [
    "# 그룹핑의 기준을 문자열의 첫 번째 글자로 설정\n",
    "foodsGroup = foods.groupBy(lambda x : x[0])\n",
    "foodsGroup"
   ]
  },
  {
   "cell_type": "code",
   "execution_count": 44,
   "id": "c75065ea-66ce-4ed2-b148-17bac8389053",
   "metadata": {},
   "outputs": [],
   "source": [
    "res = foodsGroup.collect()"
   ]
  },
  {
   "cell_type": "code",
   "execution_count": 45,
   "id": "253c5696-1755-4d46-a70c-c79b31d45105",
   "metadata": {},
   "outputs": [
    {
     "name": "stdout",
     "output_type": "stream",
     "text": [
      "짜 ['짜장면', '짜장면', '짜장면', '짜장면']\n",
      "짬 ['짬뽕', '짬뽕']\n",
      "쌀 ['쌀국수']\n",
      "라 ['라면', '라면']\n",
      "우 ['우동']\n",
      "마 ['마라탕']\n",
      "떡 ['떡볶이']\n"
     ]
    }
   ],
   "source": [
    "for (k, v) in res:\n",
    "    print(k, list(v))"
   ]
  },
  {
   "cell_type": "code",
   "execution_count": 46,
   "id": "8a00cfdc-af71-467d-8f50-c2a6e2491ba7",
   "metadata": {},
   "outputs": [],
   "source": [
    "# 내로우 narrow  트랜스포메이션"
   ]
  },
  {
   "cell_type": "code",
   "execution_count": 49,
   "id": "31c80b48-8a28-4c9e-93f6-a7c659a8bcbb",
   "metadata": {},
   "outputs": [
    {
     "data": {
      "text/plain": [
       "[1, 5]"
      ]
     },
     "execution_count": 49,
     "metadata": {},
     "output_type": "execute_result"
    }
   ],
   "source": [
    "### 2. Narrow 트랜스포메이션 예제\n",
    "numbers = sc.parallelize([1, 2, 3, 4, 5])\n",
    "\n",
    "# 1:1 변환 (Narrow Transformation)\n",
    "sample_rdd = numbers.sample(False, 0.5)\n",
    "sample_rdd.take(3)"
   ]
  },
  {
   "cell_type": "code",
   "execution_count": 50,
   "id": "4412ea66-5f06-4fd8-b22e-f3502300e794",
   "metadata": {},
   "outputs": [
    {
     "data": {
      "text/plain": [
       "[1, 2, 3, 4, 5, 6, 7, 8]"
      ]
     },
     "execution_count": 50,
     "metadata": {},
     "output_type": "execute_result"
    }
   ],
   "source": [
    "union_rdd = numbers.union(sc.parallelize([6,7,8]))\n",
    "union_rdd.collect()"
   ]
  },
  {
   "cell_type": "code",
   "execution_count": 51,
   "id": "63b140c2-4014-4c24-a09e-e2034332edbd",
   "metadata": {},
   "outputs": [],
   "source": [
    "kv_rdd = sc.parallelize([('apple',1), ('banana', 2), ('cherry', 3)])"
   ]
  },
  {
   "cell_type": "code",
   "execution_count": 53,
   "id": "c10d0a42-bfeb-46f3-9076-4447a5d16e94",
   "metadata": {},
   "outputs": [
    {
     "data": {
      "text/plain": [
       "[('apple', 10), ('banana', 20), ('cherry', 30)]"
      ]
     },
     "execution_count": 53,
     "metadata": {},
     "output_type": "execute_result"
    }
   ],
   "source": [
    "mapp_values = kv_rdd.mapValues(lambda x: x*10)\n",
    "mapp_values.collect()"
   ]
  },
  {
   "cell_type": "code",
   "execution_count": 54,
   "id": "bb31680d-9169-4d1e-bd3a-38513b129a9f",
   "metadata": {},
   "outputs": [
    {
     "data": {
      "text/plain": [
       "[('apple', <pyspark.resultiterable.ResultIterable at 0x7fa5f8a32a50>),\n",
       " ('banana', <pyspark.resultiterable.ResultIterable at 0x7fa5f8a31550>),\n",
       " ('cherry', <pyspark.resultiterable.ResultIterable at 0x7fa5f8a31250>)]"
      ]
     },
     "execution_count": 54,
     "metadata": {},
     "output_type": "execute_result"
    }
   ],
   "source": [
    "# wide 연산 \n",
    "grouped_rdd = kv_rdd.groupByKey()\n",
    "grouped_rdd.collect()"
   ]
  },
  {
   "cell_type": "code",
   "execution_count": 56,
   "id": "77bdb54b-1fe6-4adf-bda1-2720f302a3ef",
   "metadata": {},
   "outputs": [
    {
     "data": {
      "text/plain": [
       "[('apple', 1), ('banana', 2), ('cherry', 3)]"
      ]
     },
     "execution_count": 56,
     "metadata": {},
     "output_type": "execute_result"
    }
   ],
   "source": [
    "reduced_rdd = kv_rdd.reduceByKey(lambda x,y: x+y)\n",
    "reduced_rdd.collect()"
   ]
  },
  {
   "cell_type": "code",
   "execution_count": 57,
   "id": "e92ca4e7-dda0-4605-bc5a-62bc6335e49b",
   "metadata": {},
   "outputs": [
    {
     "name": "stdout",
     "output_type": "stream",
     "text": [
      "Mapped RDD: [2, 4, 6, 8, 10]\n",
      "Filtered RDD: [2, 4]\n",
      "Flattened RDD: [1, 2, 3, 4]\n"
     ]
    }
   ],
   "source": [
    "### 1. RDD 생성과 기본 트랜스포메이션\n",
    "\n",
    "# SparkContext 생성 (이미 sc가 존재한다고 가정)\n",
    "# RDD 생성\n",
    "numbers = sc.parallelize([1, 2, 3, 4, 5])\n",
    "\n",
    "# 기본 트랜스포메이션 예제\n",
    "mapped_rdd = numbers.map(lambda x: x * 2)\n",
    "filtered_rdd = numbers.filter(lambda x: x % 2 == 0)\n",
    "flattened_rdd = sc.parallelize([[1, 2], [3, 4]]).flatMap(lambda x: x)\n",
    "\n",
    "# 결과 확인\n",
    "print(\"Mapped RDD:\", mapped_rdd.collect())  # [2, 4, 6, 8, 10]\n",
    "print(\"Filtered RDD:\", filtered_rdd.collect())  # [2, 4]\n",
    "print(\"Flattened RDD:\", flattened_rdd.collect())  # [1, 2, 3, 4]"
   ]
  },
  {
   "cell_type": "code",
   "execution_count": 59,
   "id": "a79c55e9-f837-4b0e-aff4-5494d1583413",
   "metadata": {},
   "outputs": [],
   "source": [
    "### 4. 액션 연산 예제\n",
    "# 액션 연산\n",
    "count = numbers.count()\n",
    "first_element = numbers.first()\n",
    "collected = numbers.collect()\n",
    "taken = numbers.take(3)"
   ]
  },
  {
   "cell_type": "code",
   "execution_count": 60,
   "id": "ecbe2a15-79de-4849-8c3a-f898693e6e33",
   "metadata": {},
   "outputs": [
    {
     "name": "stdout",
     "output_type": "stream",
     "text": [
      "Sample RDD: [4]\n",
      "Union RDD: [1, 2, 3, 4, 5, 6, 7, 8]\n",
      "MapValues RDD: [('apple', 10), ('banana', 20), ('cherry', 30)]\n"
     ]
    }
   ],
   "source": [
    "### 2. Narrow 트랜스포메이션 예제\n",
    "\n",
    "# 1:1 변환 (Narrow Transformation)\n",
    "sample_rdd = numbers.sample(False, 0.5)\n",
    "union_rdd = numbers.union(sc.parallelize([6, 7, 8]))\n",
    "\n",
    "# Key-Value RDD에서 mapValues 사용\n",
    "kv_rdd = sc.parallelize([(\"apple\", 1), (\"banana\", 2), (\"cherry\", 3)])\n",
    "mapped_values = kv_rdd.mapValues(lambda x: x * 10)\n",
    "\n",
    "print(\"Sample RDD:\", sample_rdd.collect())  # 무작위 샘플링된 결과\n",
    "print(\"Union RDD:\", union_rdd.collect())  # [1, 2, 3, 4, 5, 6, 7, 8]\n",
    "print(\"MapValues RDD:\", mapped_values.collect())  # [(\"apple\", 10), (\"banana\", 20), (\"cherry\", 30)]\n"
   ]
  },
  {
   "cell_type": "code",
   "execution_count": 61,
   "id": "4adb0d60-8dd0-489d-aa16-1612dc78191d",
   "metadata": {},
   "outputs": [],
   "source": [
    "### 3. Wide 트랜스포메이션 예제\n",
    "\n",
    "# 셔플링이 필요한 변환 (Wide Transformation)\n",
    "distinct_rdd = sc.parallelize([1, 1, 2, 2, 3, 3]).distinct()\n",
    "grouped_rdd = kv_rdd.groupByKey()\n",
    "reduced_rdd = kv_rdd.reduceByKey(lambda x, y: x + y)"
   ]
  },
  {
   "cell_type": "markdown",
   "id": "d037d85e-3025-4f46-a354-25e32d69dd5f",
   "metadata": {},
   "source": [
    "# join ()"
   ]
  },
  {
   "cell_type": "code",
   "execution_count": 65,
   "id": "b2f16e35-7431-4d36-8c95-3a3d476884d3",
   "metadata": {},
   "outputs": [
    {
     "name": "stdout",
     "output_type": "stream",
     "text": [
      "[('apple', (2, 'fruit')), ('banana', (1, 'fruit'))]\n",
      "Distinct RDD: [2, 1, 3]\n",
      "Joined RDD: [('apple', (2, 'fruit')), ('banana', (1, 'fruit'))]\n"
     ]
    }
   ],
   "source": [
    "# 두 RDD 조인하기\n",
    "rdd1 = sc.parallelize([(\"apple\", 2), (\"banana\", 1)])\n",
    "rdd2 = sc.parallelize([(\"apple\", \"fruit\"), (\"banana\", \"fruit\"), (\"carrot\", \"vegetable\")])\n",
    "\n",
    "# 두 RDD 조인\n",
    "joined_rdd = rdd1.join(rdd2)\n",
    "print(joined_rdd.collect())\n",
    "# 출력 결과: [('apple', (2, 'fruit')), ('banana', (1, 'fruit'))]\n",
    "\n",
    "print(\"Distinct RDD:\", distinct_rdd.collect())  # [1, 2, 3]\n",
    "print(\"Joined RDD:\", joined_rdd.collect())  # [(\"apple\", (2, \"fruit\")), (\"banana\", (1, \"fruit\"))]"
   ]
  },
  {
   "cell_type": "code",
   "execution_count": 66,
   "id": "b9b570a6-3f5b-4a9b-a4f7-59ba61e0fcbe",
   "metadata": {},
   "outputs": [
    {
     "name": "stdout",
     "output_type": "stream",
     "text": [
      "[('apple', (2, 'fruit')), ('banana', (1, 'fruit'))]\n",
      "[('apple', (2, 'fruit')), ('banana', (1, 'fruit')), ('carrot', (None, 'vegetable'))]\n",
      "[('banana', 1)]\n"
     ]
    }
   ],
   "source": [
    "# 왼쪽 외부 조인 (leftOuterJoin)\n",
    "left_joined = rdd1.leftOuterJoin(rdd2)\n",
    "print(left_joined.collect())\n",
    "# 출력 결과: [('apple', (2, 'fruit')), ('banana', (1, 'fruit'))]\n",
    "\n",
    "# 오른쪽 외부 조인 (rightOuterJoin)\n",
    "right_joined = rdd1.rightOuterJoin(rdd2)\n",
    "print(right_joined.collect())\n",
    "# 출력 결과: [('apple', (2, 'fruit')), ('banana', (1, 'fruit')), ('carrot', (None, 'vegetable'))]\n",
    "\n",
    "# subtractByKey 연산\n",
    "subtract_result = rdd1.subtractByKey(sc.parallelize([(\"apple\", \"any\")]))\n",
    "print(subtract_result.collect())\n",
    "# 출력 결과: [('banana', 1)]"
   ]
  },
  {
   "cell_type": "markdown",
   "id": "5e9aaa6b-c48f-4296-a39c-bbfd41ce288c",
   "metadata": {},
   "source": [
    "# reduce()"
   ]
  },
  {
   "cell_type": "code",
   "execution_count": 67,
   "id": "b961da71-b13f-4794-b320-accb20cc05bd",
   "metadata": {},
   "outputs": [
    {
     "name": "stdout",
     "output_type": "stream",
     "text": [
      "Count: 5\n",
      "First element: 1\n",
      "Collected: [1, 2, 3, 4, 5]\n",
      "Taken: [1, 2, 3]\n",
      "Sum: 15\n",
      "Product: 120\n"
     ]
    }
   ],
   "source": [
    "# reduce 연산 (결합성과 교환성을 가진 작업)\n",
    "sum_result = numbers.reduce(lambda x, y: x + y)\n",
    "product_result = numbers.reduce(lambda x, y: x * y)\n",
    "\n",
    "print(\"Count:\", count)  # 5\n",
    "print(\"First element:\", first_element)  # 1\n",
    "print(\"Collected:\", collected)  # [1, 2, 3, 4, 5]\n",
    "print(\"Taken:\", taken)  # [1, 2, 3]\n",
    "print(\"Sum:\", sum_result)  # 15\n",
    "print(\"Product:\", product_result)  # 120"
   ]
  },
  {
   "cell_type": "code",
   "execution_count": 68,
   "id": "1021dc2e-38e2-42ee-b350-388801a5fffd",
   "metadata": {},
   "outputs": [
    {
     "data": {
      "text/plain": [
       "18"
      ]
     },
     "execution_count": 68,
     "metadata": {},
     "output_type": "execute_result"
    }
   ],
   "source": [
    "# 파티션을 3개로 지정ㄴ \n",
    "sc.parallelize([1,2,3,4],3).reduce(lambda x,y : (x*2)+y)"
   ]
  },
  {
   "cell_type": "code",
   "execution_count": 69,
   "id": "e90cd7ad-e090-476f-a675-4acd69e7e989",
   "metadata": {},
   "outputs": [],
   "source": [
    "spark.stop()"
   ]
  },
  {
   "cell_type": "code",
   "execution_count": 70,
   "id": "e94f0aa3-a63b-42a2-b3e5-bdf85daf0617",
   "metadata": {},
   "outputs": [],
   "source": [
    "sc.stop()"
   ]
  },
  {
   "cell_type": "code",
   "execution_count": null,
   "id": "0ec023a9-3484-44af-b8ad-c14b5cbb3a87",
   "metadata": {},
   "outputs": [],
   "source": []
  }
 ],
 "metadata": {
  "kernelspec": {
   "display_name": "Python 3 (ipykernel)",
   "language": "python",
   "name": "python3"
  },
  "language_info": {
   "codemirror_mode": {
    "name": "ipython",
    "version": 3
   },
   "file_extension": ".py",
   "mimetype": "text/x-python",
   "name": "python",
   "nbconvert_exporter": "python",
   "pygments_lexer": "ipython3",
   "version": "3.11.6"
  }
 },
 "nbformat": 4,
 "nbformat_minor": 5
}
