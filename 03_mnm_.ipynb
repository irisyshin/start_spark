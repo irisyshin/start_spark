{
 "cells": [
  {
   "cell_type": "code",
   "execution_count": 47,
   "id": "82ce2d68-6c3e-48cc-8543-1ed3e6966de9",
   "metadata": {},
   "outputs": [],
   "source": [
    "import os\n",
    "from pyspark.sql import SparkSession\n",
    "from pyspark import SparkConf, SparkContext"
   ]
  },
  {
   "cell_type": "code",
   "execution_count": 48,
   "id": "514f1879-80c7-4cec-9394-43038c5e041e",
   "metadata": {},
   "outputs": [
    {
     "data": {
      "text/plain": [
       "'/home/jovyan/work'"
      ]
     },
     "execution_count": 48,
     "metadata": {},
     "output_type": "execute_result"
    }
   ],
   "source": [
    "os.getcwd()"
   ]
  },
  {
   "cell_type": "code",
   "execution_count": 49,
   "id": "49978ace-7132-479b-9d42-c9213f7e2a63",
   "metadata": {},
   "outputs": [
    {
     "data": {
      "text/plain": [
       "'/home/jovyan/work/learning_spark_data'"
      ]
     },
     "execution_count": 49,
     "metadata": {},
     "output_type": "execute_result"
    }
   ],
   "source": [
    "dir = os.path.join(os.getcwd(), 'learning_spark_data') #실제 자기의 폴더????\n",
    "dir"
   ]
  },
  {
   "cell_type": "code",
   "execution_count": 50,
   "id": "87ad9941-d7c8-4493-ae86-3eda904369cf",
   "metadata": {},
   "outputs": [],
   "source": [
    "conf = SparkConf().setMaster('local').setAppName('mnm_practice')"
   ]
  },
  {
   "cell_type": "code",
   "execution_count": 51,
   "id": "a5a03420-bab9-4413-98d1-f32e6fe4a699",
   "metadata": {},
   "outputs": [
    {
     "data": {
      "text/html": [
       "\n",
       "        <div>\n",
       "            <p><b>SparkContext</b></p>\n",
       "\n",
       "            <p><a href=\"http://67eb04197dfe:4041\">Spark UI</a></p>\n",
       "\n",
       "            <dl>\n",
       "              <dt>Version</dt>\n",
       "                <dd><code>v3.5.0</code></dd>\n",
       "              <dt>Master</dt>\n",
       "                <dd><code>local</code></dd>\n",
       "              <dt>AppName</dt>\n",
       "                <dd><code>mnm_practice</code></dd>\n",
       "            </dl>\n",
       "        </div>\n",
       "        "
      ],
      "text/plain": [
       "<SparkContext master=local appName=mnm_practice>"
      ]
     },
     "execution_count": 51,
     "metadata": {},
     "output_type": "execute_result"
    }
   ],
   "source": [
    "#conf 대신 seesion 쓰는게 편함 \n",
    "spark = SparkContext(conf = conf).getOrCreate()\n",
    "spark"
   ]
  },
  {
   "cell_type": "code",
   "execution_count": 52,
   "id": "36514862-3082-411f-b93d-6442ea623a52",
   "metadata": {},
   "outputs": [
    {
     "data": {
      "text/plain": [
       "'/home/jovyan/work/learning_spark_data/mnm_dataset.csv'"
      ]
     },
     "execution_count": 52,
     "metadata": {},
     "output_type": "execute_result"
    }
   ],
   "source": [
    "filename = 'mnm_dataset.csv'\n",
    "filepath = os.path.join(dir, filename)\n",
    "filepath"
   ]
  },
  {
   "cell_type": "code",
   "execution_count": 53,
   "id": "abea5c59-3d82-48af-9003-41cb6e926b73",
   "metadata": {},
   "outputs": [],
   "source": [
    "rdd = spark.textFile('file:///'+filepath.replace('\\\\','/')) #실패이유 : 경로 못 알아들음 "
   ]
  },
  {
   "cell_type": "code",
   "execution_count": 13,
   "id": "ab7b08ff-76c9-4dc0-a6b3-374c4a40ba0c",
   "metadata": {},
   "outputs": [
    {
     "data": {
      "text/plain": [
       "100000"
      ]
     },
     "execution_count": 13,
     "metadata": {},
     "output_type": "execute_result"
    }
   ],
   "source": [
    "rdd.count()"
   ]
  },
  {
   "cell_type": "code",
   "execution_count": 16,
   "id": "456026a1-a554-41f5-8668-6ef88f1d76d7",
   "metadata": {},
   "outputs": [
    {
     "data": {
      "text/plain": [
       "['State,Color,Count', 'TX,Red,20', 'NV,Blue,66', 'CO,Blue,79', 'OR,Blue,71']"
      ]
     },
     "execution_count": 16,
     "metadata": {},
     "output_type": "execute_result"
    }
   ],
   "source": [
    "#데이터 확인 \n",
    "rdd.take(5)"
   ]
  },
  {
   "cell_type": "code",
   "execution_count": 14,
   "id": "c3e106e2-2234-4a74-86ff-83abf6ab32e8",
   "metadata": {},
   "outputs": [
    {
     "data": {
      "text/plain": [
       "'State,Color,Count'"
      ]
     },
     "execution_count": 14,
     "metadata": {},
     "output_type": "execute_result"
    }
   ],
   "source": [
    "header = rdd.first()\n",
    "header"
   ]
  },
  {
   "cell_type": "code",
   "execution_count": 20,
   "id": "1e3328e1-94ab-4e65-b4fa-851e658c1524",
   "metadata": {},
   "outputs": [
    {
     "data": {
      "text/plain": [
       "PythonRDD[12] at RDD at PythonRDD.scala:53"
      ]
     },
     "execution_count": 20,
     "metadata": {},
     "output_type": "execute_result"
    }
   ],
   "source": [
    "# filer: header 제거, map: 원하는 필드 추출 동시에 \n",
    "# map(lambda line: line.split(\",\") : 각 줄을 쉼표 기준으로 나눠, 그 다음 리스트로 바뀜\n",
    "# RDD[List[Str]] 형태로 바뀜 \n",
    "datas = rdd.filter(lambda row : row != header)\\\n",
    "            .map(lambda line: line.split(\",\"))\n",
    "datas"
   ]
  },
  {
   "cell_type": "code",
   "execution_count": 21,
   "id": "82f8e615-40a5-4dc8-8517-9293277f7925",
   "metadata": {},
   "outputs": [
    {
     "data": {
      "text/plain": [
       "[['TX', 'Red', '20'],\n",
       " ['NV', 'Blue', '66'],\n",
       " ['CO', 'Blue', '79'],\n",
       " ['OR', 'Blue', '71'],\n",
       " ['WA', 'Yellow', '93']]"
      ]
     },
     "execution_count": 21,
     "metadata": {},
     "output_type": "execute_result"
    }
   ],
   "source": [
    "datas.take(5)"
   ]
  },
  {
   "cell_type": "code",
   "execution_count": 22,
   "id": "35bd8f70-21e4-4c67-b899-f719a201622a",
   "metadata": {},
   "outputs": [],
   "source": [
    "# 총 사탕 수 몇개일까 ?\n",
    "# sum 기능이 없어서 만들어 줘야함 "
   ]
  },
  {
   "cell_type": "code",
   "execution_count": 39,
   "id": "505f2807-c907-4167-83bb-02689b1f5578",
   "metadata": {},
   "outputs": [
    {
     "data": {
      "text/plain": [
       "[('TX', 556493), ('NV', 548477), ('CO', 556302)]"
      ]
     },
     "execution_count": 39,
     "metadata": {},
     "output_type": "execute_result"
    }
   ],
   "source": [
    "# data 변환 -> 함침 \n",
    "# 주 당 몇개씩 팔렸는지 \n",
    "# ('CA', 20) 이러한 형태로 변환\n",
    "rdd1 = datas.map(lambda x: ( x[0], int(x[2])))\n",
    "rdd1.take(3)\n",
    "# 같은 주끼리 값을 합침 \n",
    "# 두개의 행을 받아서 같은 키끼리 합쳐 \n",
    "total_by_state = rdd1.reduceByKey(lambda a,b: a+b)\n",
    "total_by_state.take(3)"
   ]
  },
  {
   "cell_type": "code",
   "execution_count": 40,
   "id": "c842c4c4-b300-4ccc-a6d8-4d08e77db026",
   "metadata": {},
   "outputs": [
    {
     "data": {
      "text/plain": [
       "[(('TX', 'Red'), 95404), (('NV', 'Blue'), 90003), (('CO', 'Blue'), 93412)]"
      ]
     },
     "execution_count": 40,
     "metadata": {},
     "output_type": "execute_result"
    }
   ],
   "source": [
    "# state. colour count \n",
    "# 주와 색상을 함께 묶어서 각 색상의 사탕의 개수를 주별로 합산 \n",
    "rdd3 = datas.map(lambda x: ((x[0], x[1]), int(x[2])))\\\n",
    "    .reduceByKey(lambda a,b: a+b)\n",
    "rdd3.take(3)"
   ]
  },
  {
   "cell_type": "code",
   "execution_count": 41,
   "id": "eb12fda7-216e-4089-9bc9-0664ebdbfd49",
   "metadata": {},
   "outputs": [
    {
     "data": {
      "text/plain": [
       "[(('TX', 'Red'), 95404),\n",
       " (('NV', 'Blue'), 90003),\n",
       " (('CO', 'Blue'), 93412),\n",
       " (('OR', 'Blue'), 90526),\n",
       " (('WA', 'Yellow'), 92920),\n",
       " (('WY', 'Blue'), 91002),\n",
       " (('CA', 'Yellow'), 100956),\n",
       " (('WA', 'Green'), 96486),\n",
       " (('OR', 'Green'), 89578),\n",
       " (('TX', 'Green'), 95753),\n",
       " (('NV', 'Green'), 91331),\n",
       " (('AZ', 'Brown'), 92287),\n",
       " (('AZ', 'Blue'), 89971),\n",
       " (('OR', 'Brown'), 89136),\n",
       " (('NV', 'Red'), 89346),\n",
       " (('WY', 'Orange'), 87956),\n",
       " (('TX', 'Brown'), 90736),\n",
       " (('CO', 'Red'), 89465),\n",
       " (('AZ', 'Green'), 91882),\n",
       " (('NM', 'Yellow'), 92747),\n",
       " (('WA', 'Red'), 93332),\n",
       " (('WY', 'Red'), 91768),\n",
       " (('TX', 'Orange'), 92315),\n",
       " (('WY', 'Yellow'), 87800),\n",
       " (('CO', 'Orange'), 90971),\n",
       " (('NV', 'Orange'), 93929),\n",
       " (('WY', 'Green'), 94339),\n",
       " (('CA', 'Green'), 93505),\n",
       " (('UT', 'Red'), 90995),\n",
       " (('CA', 'Red'), 91527),\n",
       " (('TX', 'Yellow'), 93819),\n",
       " (('WA', 'Orange'), 91521),\n",
       " (('AZ', 'Orange'), 91684),\n",
       " (('AZ', 'Red'), 90042),\n",
       " (('CA', 'Blue'), 89123),\n",
       " (('CO', 'Brown'), 93692),\n",
       " (('UT', 'Green'), 88392),\n",
       " (('NM', 'Green'), 91160),\n",
       " (('NV', 'Yellow'), 91390),\n",
       " (('TX', 'Blue'), 88466),\n",
       " (('WA', 'Brown'), 93082),\n",
       " (('OR', 'Red'), 90286),\n",
       " (('UT', 'Blue'), 89977),\n",
       " (('NM', 'Brown'), 93447),\n",
       " (('UT', 'Yellow'), 89264),\n",
       " (('UT', 'Brown'), 88973),\n",
       " (('WY', 'Brown'), 86110),\n",
       " (('WA', 'Blue'), 89886),\n",
       " (('CA', 'Orange'), 90311),\n",
       " (('OR', 'Orange'), 94514),\n",
       " (('AZ', 'Yellow'), 90946),\n",
       " (('CA', 'Brown'), 95762),\n",
       " (('NM', 'Blue'), 90150),\n",
       " (('CO', 'Green'), 93724),\n",
       " (('NV', 'Brown'), 92478),\n",
       " (('NM', 'Orange'), 91251),\n",
       " (('OR', 'Yellow'), 88129),\n",
       " (('UT', 'Orange'), 91341),\n",
       " (('NM', 'Red'), 94699),\n",
       " (('CO', 'Yellow'), 95038)]"
      ]
     },
     "execution_count": 41,
     "metadata": {},
     "output_type": "execute_result"
    }
   ],
   "source": [
    "# 전체 목록 보기 > 모두 메모리에 올린다 \n",
    "rdd3.collect()"
   ]
  },
  {
   "cell_type": "code",
   "execution_count": 37,
   "id": "3cf935e2-43f8-4e4e-acb3-0d7db1567c4d",
   "metadata": {},
   "outputs": [],
   "source": [
    "# output으로 내보내기 "
   ]
  },
  {
   "cell_type": "code",
   "execution_count": null,
   "id": "616b2e54-67b7-4bce-9261-0e0542b937ad",
   "metadata": {},
   "outputs": [],
   "source": [
    "# 이걸 그대로 내보냈을떄와 mysql에 저장했을떄 어떻게 다른지 "
   ]
  },
  {
   "cell_type": "code",
   "execution_count": 38,
   "id": "808e2c56-5180-4243-8c18-c4c97aafc113",
   "metadata": {},
   "outputs": [],
   "source": [
    "# 저장소에 저장하기\n",
    "output_path = 'output/mnm_result'\n",
    "import shutil\n",
    "if os.path.exists(output_path):\n",
    "    shutil.rmtree(output_path)\n",
    "rdd3.saveAsTextFile(output_path) #저장소 경로"
   ]
  },
  {
   "cell_type": "code",
   "execution_count": 43,
   "id": "fe4f0048-b2a2-43d7-8c2b-a1d979e3da52",
   "metadata": {},
   "outputs": [
    {
     "name": "stdout",
     "output_type": "stream",
     "text": [
      "Setting default log level to \"WARN\".\n",
      "To adjust logging level use sc.setLogLevel(newLevel). For SparkR, use setLogLevel(newLevel).\n",
      "25/08/04 01:50:41 WARN NativeCodeLoader: Unable to load native-hadoop library for your platform... using builtin-java classes where applicable\n",
      "25/08/04 01:50:42 WARN Utils: Service 'SparkUI' could not bind on port 4040. Attempting port 4041.\n",
      "결과 미리보기 ------\n",
      "Traceback (most recent call last):\n",
      "  File \"/home/jovyan/work/03_mnm_result_load.py\", line 8, in <module>\n",
      "    for line in result_rdd.take(5):\n",
      "                ^^^^^^^^^^^^^^^^^^\n",
      "  File \"/usr/local/spark/python/pyspark/rdd.py\", line 2822, in take\n",
      "    totalParts = self.getNumPartitions()\n",
      "                 ^^^^^^^^^^^^^^^^^^^^^^^\n",
      "  File \"/usr/local/spark/python/pyspark/rdd.py\", line 952, in getNumPartitions\n",
      "    return self._jrdd.partitions().size()\n",
      "           ^^^^^^^^^^^^^^^^^^^^^^^\n",
      "  File \"/usr/local/spark/python/lib/py4j-0.10.9.7-src.zip/py4j/java_gateway.py\", line 1322, in __call__\n",
      "  File \"/usr/local/spark/python/pyspark/errors/exceptions/captured.py\", line 179, in deco\n",
      "    return f(*a, **kw)\n",
      "           ^^^^^^^^^^^\n",
      "  File \"/usr/local/spark/python/lib/py4j-0.10.9.7-src.zip/py4j/protocol.py\", line 326, in get_return_value\n",
      "py4j.protocol.Py4JJavaError: An error occurred while calling o26.partitions.\n",
      ": org.apache.hadoop.mapred.InvalidInputException: Input path does not exist: file:/home/jovyan/work/output/mnm_reuslt\n",
      "\tat org.apache.hadoop.mapred.FileInputFormat.singleThreadedListStatus(FileInputFormat.java:304)\n",
      "\tat org.apache.hadoop.mapred.FileInputFormat.listStatus(FileInputFormat.java:244)\n",
      "\tat org.apache.hadoop.mapred.FileInputFormat.getSplits(FileInputFormat.java:332)\n",
      "\tat org.apache.spark.rdd.HadoopRDD.getPartitions(HadoopRDD.scala:208)\n",
      "\tat org.apache.spark.rdd.RDD.$anonfun$partitions$2(RDD.scala:291)\n",
      "\tat scala.Option.getOrElse(Option.scala:189)\n",
      "\tat org.apache.spark.rdd.RDD.partitions(RDD.scala:287)\n",
      "\tat org.apache.spark.rdd.MapPartitionsRDD.getPartitions(MapPartitionsRDD.scala:49)\n",
      "\tat org.apache.spark.rdd.RDD.$anonfun$partitions$2(RDD.scala:291)\n",
      "\tat scala.Option.getOrElse(Option.scala:189)\n",
      "\tat org.apache.spark.rdd.RDD.partitions(RDD.scala:287)\n",
      "\tat org.apache.spark.api.java.JavaRDDLike.partitions(JavaRDDLike.scala:61)\n",
      "\tat org.apache.spark.api.java.JavaRDDLike.partitions$(JavaRDDLike.scala:61)\n",
      "\tat org.apache.spark.api.java.AbstractJavaRDDLike.partitions(JavaRDDLike.scala:45)\n",
      "\tat java.base/jdk.internal.reflect.NativeMethodAccessorImpl.invoke0(Native Method)\n",
      "\tat java.base/jdk.internal.reflect.NativeMethodAccessorImpl.invoke(NativeMethodAccessorImpl.java:77)\n",
      "\tat java.base/jdk.internal.reflect.DelegatingMethodAccessorImpl.invoke(DelegatingMethodAccessorImpl.java:43)\n",
      "\tat java.base/java.lang.reflect.Method.invoke(Method.java:568)\n",
      "\tat py4j.reflection.MethodInvoker.invoke(MethodInvoker.java:244)\n",
      "\tat py4j.reflection.ReflectionEngine.invoke(ReflectionEngine.java:374)\n",
      "\tat py4j.Gateway.invoke(Gateway.java:282)\n",
      "\tat py4j.commands.AbstractCommand.invokeMethod(AbstractCommand.java:132)\n",
      "\tat py4j.commands.CallCommand.execute(CallCommand.java:79)\n",
      "\tat py4j.ClientServerConnection.waitForCommands(ClientServerConnection.java:182)\n",
      "\tat py4j.ClientServerConnection.run(ClientServerConnection.java:106)\n",
      "\tat java.base/java.lang.Thread.run(Thread.java:833)\n",
      "Caused by: java.io.IOException: Input path does not exist: file:/home/jovyan/work/output/mnm_reuslt\n",
      "\tat org.apache.hadoop.mapred.FileInputFormat.singleThreadedListStatus(FileInputFormat.java:278)\n",
      "\t... 25 more\n",
      "\n"
     ]
    }
   ],
   "source": [
    "!python 03_mnm_result_load.py"
   ]
  },
  {
   "cell_type": "code",
   "execution_count": 44,
   "id": "9d0bba45-6b6e-47c9-b77d-bd570d90a076",
   "metadata": {},
   "outputs": [],
   "source": [
    "spark.stop()"
   ]
  },
  {
   "cell_type": "code",
   "execution_count": null,
   "id": "3012cb4f-53b8-4dba-9f4e-c11498303341",
   "metadata": {},
   "outputs": [],
   "source": []
  }
 ],
 "metadata": {
  "kernelspec": {
   "display_name": "Python 3 (ipykernel)",
   "language": "python",
   "name": "python3"
  },
  "language_info": {
   "codemirror_mode": {
    "name": "ipython",
    "version": 3
   },
   "file_extension": ".py",
   "mimetype": "text/x-python",
   "name": "python",
   "nbconvert_exporter": "python",
   "pygments_lexer": "ipython3",
   "version": "3.11.6"
  }
 },
 "nbformat": 4,
 "nbformat_minor": 5
}
