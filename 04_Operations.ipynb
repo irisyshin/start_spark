{
 "cells": [
  {
   "cell_type": "markdown",
   "id": "378ad066-867b-46bd-9cdd-93c7d83b4814",
   "metadata": {},
   "source": [
    "# reduce \n",
    "RDD.reduce(<func>)\n",
    "사용자가 지정하는 함수를 받아 여러 개의 값을 하나로 줄여줌"
   ]
  },
  {
   "cell_type": "code",
   "execution_count": 10,
   "id": "a4333ef8-cb51-41d8-bfd1-6f1374da3cc4",
   "metadata": {},
   "outputs": [],
   "source": [
    "from pyspark import SparkConf, SparkContext\n",
    "from pyspark.sql import SparkSession\n",
    "# 현재 실행 중인 SparkSession 가져오기\n",
    "spark = SparkSession.builder.getOrCreate()\n",
    "sc = spark.sparkContext"
   ]
  },
  {
   "cell_type": "code",
   "execution_count": 11,
   "id": "5fb2e0e1-48cb-40ae-85aa-d6868afec423",
   "metadata": {},
   "outputs": [],
   "source": [
    "from operator import add"
   ]
  },
  {
   "cell_type": "code",
   "execution_count": 12,
   "id": "91d181d4-2efe-456b-952b-9748595b931e",
   "metadata": {},
   "outputs": [
    {
     "data": {
      "text/plain": [
       "ParallelCollectionRDD[0] at readRDDFromFile at PythonRDD.scala:289"
      ]
     },
     "execution_count": 12,
     "metadata": {},
     "output_type": "execute_result"
    }
   ],
   "source": [
    "sample_rdd = sc.parallelize([1, 2, 3, 4, 5])\n",
    "sample_rdd"
   ]
  },
  {
   "cell_type": "code",
   "execution_count": null,
   "id": "8cdc71a1-b872-4d99-9913-a5c6005eab4b",
   "metadata": {},
   "outputs": [],
   "source": [
    "sample_rdd = sc.paralleliz"
   ]
  },
  {
   "cell_type": "code",
   "execution_count": null,
   "id": "024c9bca-6ccb-43c1-8e08-fa702351aed0",
   "metadata": {},
   "outputs": [],
   "source": []
  },
  {
   "cell_type": "code",
   "execution_count": 4,
   "id": "49c31906-4063-43ce-ad0e-08fa333e29ba",
   "metadata": {},
   "outputs": [
    {
     "ename": "NameError",
     "evalue": "name 'sc' is not defined",
     "output_type": "error",
     "traceback": [
      "\u001b[0;31m---------------------------------------------------------------------------\u001b[0m",
      "\u001b[0;31mNameError\u001b[0m                                 Traceback (most recent call last)",
      "Cell \u001b[0;32mIn[4], line 4\u001b[0m\n\u001b[1;32m      1\u001b[0m \u001b[38;5;66;03m### 3. Wide 트랜스포메이션 예제\u001b[39;00m\n\u001b[1;32m      2\u001b[0m \n\u001b[1;32m      3\u001b[0m \u001b[38;5;66;03m# 셔플링이 필요한 변환 (Wide Transformation)\u001b[39;00m\n\u001b[0;32m----> 4\u001b[0m distinct_rdd \u001b[38;5;241m=\u001b[39m \u001b[43msc\u001b[49m\u001b[38;5;241m.\u001b[39mparallelize([\u001b[38;5;241m1\u001b[39m, \u001b[38;5;241m1\u001b[39m, \u001b[38;5;241m2\u001b[39m, \u001b[38;5;241m2\u001b[39m, \u001b[38;5;241m3\u001b[39m, \u001b[38;5;241m3\u001b[39m])\u001b[38;5;241m.\u001b[39mdistinct()\n\u001b[1;32m      5\u001b[0m grouped_rdd \u001b[38;5;241m=\u001b[39m kv_rdd\u001b[38;5;241m.\u001b[39mgroupByKey()\n\u001b[1;32m      6\u001b[0m reduced_rdd \u001b[38;5;241m=\u001b[39m kv_rdd\u001b[38;5;241m.\u001b[39mreduceByKey(\u001b[38;5;28;01mlambda\u001b[39;00m x, y: x \u001b[38;5;241m+\u001b[39m y)\n",
      "\u001b[0;31mNameError\u001b[0m: name 'sc' is not defined"
     ]
    }
   ],
   "source": [
    "### 3. Wide 트랜스포메이션 예제\n",
    "\n",
    "# 셔플링이 필요한 변환 (Wide Transformation)\n",
    "distinct_rdd = sc.parallelize([1, 1, 2, 2, 3, 3]).distinct()\n",
    "grouped_rdd = kv_rdd.groupByKey()\n",
    "reduced_rdd = kv_rdd.reduceByKey(lambda x, y: x + y)"
   ]
  },
  {
   "cell_type": "markdown",
   "id": "aa647e44-22c0-4583-a936-8fe1113d7830",
   "metadata": {},
   "source": [
    "# join ()"
   ]
  },
  {
   "cell_type": "code",
   "execution_count": 5,
   "id": "92562c41-bacd-4aee-92d0-a59d68ce1f1b",
   "metadata": {},
   "outputs": [
    {
     "ename": "NameError",
     "evalue": "name 'sc' is not defined",
     "output_type": "error",
     "traceback": [
      "\u001b[0;31m---------------------------------------------------------------------------\u001b[0m",
      "\u001b[0;31mNameError\u001b[0m                                 Traceback (most recent call last)",
      "Cell \u001b[0;32mIn[5], line 2\u001b[0m\n\u001b[1;32m      1\u001b[0m \u001b[38;5;66;03m# 두 RDD 조인하기\u001b[39;00m\n\u001b[0;32m----> 2\u001b[0m rdd1 \u001b[38;5;241m=\u001b[39m \u001b[43msc\u001b[49m\u001b[38;5;241m.\u001b[39mparallelize([(\u001b[38;5;124m\"\u001b[39m\u001b[38;5;124mapple\u001b[39m\u001b[38;5;124m\"\u001b[39m, \u001b[38;5;241m2\u001b[39m), (\u001b[38;5;124m\"\u001b[39m\u001b[38;5;124mbanana\u001b[39m\u001b[38;5;124m\"\u001b[39m, \u001b[38;5;241m1\u001b[39m)])\n\u001b[1;32m      3\u001b[0m rdd2 \u001b[38;5;241m=\u001b[39m sc\u001b[38;5;241m.\u001b[39mparallelize([(\u001b[38;5;124m\"\u001b[39m\u001b[38;5;124mapple\u001b[39m\u001b[38;5;124m\"\u001b[39m, \u001b[38;5;124m\"\u001b[39m\u001b[38;5;124mfruit\u001b[39m\u001b[38;5;124m\"\u001b[39m), (\u001b[38;5;124m\"\u001b[39m\u001b[38;5;124mbanana\u001b[39m\u001b[38;5;124m\"\u001b[39m, \u001b[38;5;124m\"\u001b[39m\u001b[38;5;124mfruit\u001b[39m\u001b[38;5;124m\"\u001b[39m), (\u001b[38;5;124m\"\u001b[39m\u001b[38;5;124mcarrot\u001b[39m\u001b[38;5;124m\"\u001b[39m, \u001b[38;5;124m\"\u001b[39m\u001b[38;5;124mvegetable\u001b[39m\u001b[38;5;124m\"\u001b[39m)])\n\u001b[1;32m      5\u001b[0m \u001b[38;5;66;03m# 두 RDD 조인\u001b[39;00m\n",
      "\u001b[0;31mNameError\u001b[0m: name 'sc' is not defined"
     ]
    }
   ],
   "source": [
    "# 두 RDD 조인하기\n",
    "rdd1 = sc.parallelize([(\"apple\", 2), (\"banana\", 1)])\n",
    "rdd2 = sc.parallelize([(\"apple\", \"fruit\"), (\"banana\", \"fruit\"), (\"carrot\", \"vegetable\")])\n",
    "\n",
    "# 두 RDD 조인\n",
    "joined_rdd = rdd1.join(rdd2)\n",
    "print(joined_rdd.collect())\n",
    "# 출력 결과: [('apple', (2, 'fruit')), ('banana', (1, 'fruit'))]\n",
    "\n",
    "print(\"Distinct RDD:\", distinct_rdd.collect())  # [1, 2, 3]\n",
    "print(\"Joined RDD:\", joined_rdd.collect())  # [(\"apple\", (2, \"fruit\")), (\"banana\", (1, \"fruit\"))]"
   ]
  },
  {
   "cell_type": "code",
   "execution_count": 66,
   "id": "6b773b89-d206-4ac7-93f4-e1edc6e20a01",
   "metadata": {},
   "outputs": [
    {
     "name": "stdout",
     "output_type": "stream",
     "text": [
      "[('apple', (2, 'fruit')), ('banana', (1, 'fruit'))]\n",
      "[('apple', (2, 'fruit')), ('banana', (1, 'fruit')), ('carrot', (None, 'vegetable'))]\n",
      "[('banana', 1)]\n"
     ]
    }
   ],
   "source": [
    "# 왼쪽 외부 조인 (leftOuterJoin)\n",
    "left_joined = rdd1.leftOuterJoin(rdd2)\n",
    "print(left_joined.collect())\n",
    "# 출력 결과: [('apple', (2, 'fruit')), ('banana', (1, 'fruit'))]\n",
    "\n",
    "# 오른쪽 외부 조인 (rightOuterJoin)\n",
    "right_joined = rdd1.rightOuterJoin(rdd2)\n",
    "print(right_joined.collect())\n",
    "# 출력 결과: [('apple', (2, 'fruit')), ('banana', (1, 'fruit')), ('carrot', (None, 'vegetable'))]\n",
    "\n",
    "# subtractByKey 연산\n",
    "subtract_result = rdd1.subtractByKey(sc.parallelize([(\"apple\", \"any\")]))\n",
    "print(subtract_result.collect())\n",
    "# 출력 결과: [('banana', 1)]"
   ]
  },
  {
   "cell_type": "markdown",
   "id": "cfe6d277-626e-4f4a-9755-8dc2179dd8b1",
   "metadata": {},
   "source": [
    "# reduce()"
   ]
  },
  {
   "cell_type": "code",
   "execution_count": 67,
   "id": "c6973beb-d264-40d0-b455-9911a44f1d53",
   "metadata": {},
   "outputs": [
    {
     "name": "stdout",
     "output_type": "stream",
     "text": [
      "Count: 5\n",
      "First element: 1\n",
      "Collected: [1, 2, 3, 4, 5]\n",
      "Taken: [1, 2, 3]\n",
      "Sum: 15\n",
      "Product: 120\n"
     ]
    }
   ],
   "source": [
    "# reduce 연산 (결합성과 교환성을 가진 작업)\n",
    "sum_result = numbers.reduce(lambda x, y: x + y)\n",
    "product_result = numbers.reduce(lambda x, y: x * y)\n",
    "\n",
    "print(\"Count:\", count)  # 5\n",
    "print(\"First element:\", first_element)  # 1\n",
    "print(\"Collected:\", collected)  # [1, 2, 3, 4, 5]\n",
    "print(\"Taken:\", taken)  # [1, 2, 3]\n",
    "print(\"Sum:\", sum_result)  # 15\n",
    "print(\"Product:\", product_result)  # 120"
   ]
  },
  {
   "cell_type": "code",
   "execution_count": 3,
   "id": "25277de5-15d1-4dda-ba4b-731cdf025b5b",
   "metadata": {},
   "outputs": [
    {
     "ename": "NameError",
     "evalue": "name 'sc' is not defined",
     "output_type": "error",
     "traceback": [
      "\u001b[0;31m---------------------------------------------------------------------------\u001b[0m",
      "\u001b[0;31mNameError\u001b[0m                                 Traceback (most recent call last)",
      "Cell \u001b[0;32mIn[3], line 2\u001b[0m\n\u001b[1;32m      1\u001b[0m \u001b[38;5;66;03m# 파티션을 3개로 지정ㄴ \u001b[39;00m\n\u001b[0;32m----> 2\u001b[0m \u001b[43msc\u001b[49m\u001b[38;5;241m.\u001b[39mparallelize([\u001b[38;5;241m1\u001b[39m,\u001b[38;5;241m2\u001b[39m,\u001b[38;5;241m3\u001b[39m,\u001b[38;5;241m4\u001b[39m],\u001b[38;5;241m3\u001b[39m)\u001b[38;5;241m.\u001b[39mreduce(\u001b[38;5;28;01mlambda\u001b[39;00m x,y : (x\u001b[38;5;241m*\u001b[39m\u001b[38;5;241m2\u001b[39m)\u001b[38;5;241m+\u001b[39my)\n",
      "\u001b[0;31mNameError\u001b[0m: name 'sc' is not defined"
     ]
    }
   ],
   "source": [
    "# 파티션을 3개로 지정ㄴ \n",
    "sc.parallelize([1,2,3,4],3).reduce(lambda x,y : (x*2)+y)"
   ]
  },
  {
   "cell_type": "markdown",
   "id": "9fb6e41c-dc14-41ed-bd5a-f2f267f23b3e",
   "metadata": {},
   "source": [
    "# groupby"
   ]
  },
  {
   "cell_type": "code",
   "execution_count": 16,
   "id": "4b8b9c79-fa19-4af9-9f2c-fe14d944ea4b",
   "metadata": {},
   "outputs": [],
   "source": [
    "# 판매 데이터 분석 (카페고리별 총 매출 계산)\n",
    "sales_data = [\n",
    "    (\"Electronics\", 1000),\n",
    "    (\"Clothing\", 500),\n",
    "    (\"Electronics\", 1500),\n",
    "    (\"Books\", 300),\n",
    "    (\"Clothing\", 750),\n",
    "    (\"Books\", 200)\n",
    "]"
   ]
  },
  {
   "cell_type": "code",
   "execution_count": 17,
   "id": "39c6c291-1215-49e9-9b05-51525eb37dcd",
   "metadata": {},
   "outputs": [
    {
     "name": "stdout",
     "output_type": "stream",
     "text": [
      "Clothing: $1250\n",
      "Electronics: $2500\n",
      "Books: $500\n"
     ]
    }
   ],
   "source": [
    "# RDD 생성\n",
    "sales_rdd = sc.parallelize(sales_data)\n",
    "\n",
    "# 카테고리별 총 매출 계산\n",
    "category_sales = sales_rdd.groupBy(lambda x: x[0]) \\\n",
    "    .mapValues(lambda values: sum(item[1] for item in values)) \\\n",
    "    .collect()\n",
    "\n",
    "# 결과 출력\n",
    "for category, total_sales in category_sales:\n",
    "    print(f\"{category}: ${total_sales}\")"
   ]
  },
  {
   "cell_type": "code",
   "execution_count": 22,
   "id": "cdffda75-d665-47a9-a82c-08ede2dd7713",
   "metadata": {},
   "outputs": [
    {
     "name": "stdout",
     "output_type": "stream",
     "text": [
      "purchase : 3회\n",
      "purchase : 2회\n",
      "purchase : 1회\n",
      "login : 3회\n",
      "view : 1회\n",
      "purchase : 2회\n"
     ]
    }
   ],
   "source": [
    "#로그 데이터 처리 (IP 주소별 접속 횟수 분석)\n",
    "# SparkContext 생성 가정 (sc)\n",
    "log_data = [\n",
    "    (\"192.168.1.1\", \"login\"),\n",
    "    (\"192.168.1.2\", \"purchase\"),\n",
    "    (\"192.168.1.1\", \"view\"),\n",
    "    (\"192.168.1.3\", \"login\"),\n",
    "    (\"192.168.1.2\", \"login\"),\n",
    "    (\"192.168.1.1\", \"purchase\")\n",
    "]\n",
    "\n",
    "# RDD 생성\n",
    "log_rdd = sc.parallelize(log_data) \n",
    "\n",
    "# 1. (ip, 1)\n",
    "ip_count_pairs = log_rdd.map(lambda x: (x[0], 1))\n",
    "\n",
    "# 2. (ip별, 횟수)\n",
    "ip_counts = ip_count_pairs.reduceByKey(lambda a, b: a + b)\n",
    "\n",
    "for ip, count in ip_counts.collect():\n",
    "    print(f\"{action} : {count}회\")\n",
    "    \n",
    "# 유형별 접속 횟수\n",
    "# 1.(유형별, 1)\n",
    "action_count_pairs = log_rdd.map(lambda x: (x[1], 1))\n",
    "# 2.(유형별, 횟수)\n",
    "action_counts = action_count_pairs.reduceByKey(lambda a,b: a+b)\n",
    "# 결과 \n",
    "for action, count in action_counts.collect():\n",
    "    print(f\"{action} : {count}회\")"
   ]
  },
  {
   "cell_type": "code",
   "execution_count": 27,
   "id": "44f76a97-7df5-4a9b-9310-dbd5bbe05c99",
   "metadata": {},
   "outputs": [
    {
     "name": "stdout",
     "output_type": "stream",
     "text": [
      "Science: 85.0\n",
      "Math: 88.5\n",
      "English: 92.5\n"
     ]
    }
   ],
   "source": [
    "#학생 성적 데이터 분석 (과목별 평균 성적 계산)\n",
    "# SparkContext 생성 가정 (sc)\n",
    "student_grades = [\n",
    "    (\"Math\", 85),\n",
    "    (\"English\", 90),\n",
    "    (\"Math\", 92),\n",
    "    (\"Science\", 88),\n",
    "    (\"English\", 95),\n",
    "    (\"Science\", 82)\n",
    "]\n",
    "\n",
    "# RDD 생성\n",
    "grades_rdd = sc.parallelize(student_grades)\n",
    "\n",
    "# 1. (과목, (점수, 1)) form \n",
    "# x[0], x[1], (x[1], 1): 점량 \n",
    "grade_pairs = grades_rdd.map(lambda x: (x[0], (x[1], 1)))\n",
    "\n",
    "# 2. 과목별 총점, 개수 계산 \n",
    "grade_totals = grade_pairs.reduceByKey(lambda a, b: (a[0] + b[0], a[1]+b[1]))\n",
    "\n",
    "#3. 평균 개산 \n",
    "grade_avg = grade_totals.mapValues(lambda x: (x[0] / x[1]))\n",
    "\n",
    "# result \n",
    "for subject, avg in grade_avg.collect():\n",
    "    print(f\"{subject}: {avg}\")"
   ]
  },
  {
   "cell_type": "code",
   "execution_count": null,
   "id": "ffb0b0a3-5bec-4ece-a010-24bfc7ee41a9",
   "metadata": {},
   "outputs": [],
   "source": []
  },
  {
   "cell_type": "markdown",
   "id": "2134aacc-5aa0-47eb-aa3b-0cf3fcb069a4",
   "metadata": {},
   "source": [
    "# 5. aggregate 함수 사용 예제"
   ]
  },
  {
   "cell_type": "code",
   "execution_count": 31,
   "id": "1ca23679-c1d1-47b7-ab92-8c4879ecd022",
   "metadata": {},
   "outputs": [
    {
     "data": {
      "text/plain": [
       "[1, 5, 3, 9, 2, 8, 4, 7, 6]"
      ]
     },
     "execution_count": 31,
     "metadata": {},
     "output_type": "execute_result"
    }
   ],
   "source": [
    "from pyspark import SparkContext\n",
    "\n",
    "sc = SparkContext.getOrCreate()\n",
    "numbers = sc.parallelize([1, 5, 3, 9, 2, 8, 4, 7, 6], numSlices=3)\n",
    "numbers.collect()"
   ]
  },
  {
   "cell_type": "code",
   "execution_count": 34,
   "id": "0a741ca3-e6b1-42db-a972-726e2e5ce10e",
   "metadata": {},
   "outputs": [],
   "source": [
    "# glom()은 각 파티션의 내용을 리스트로 감싸서 반환\n",
    "# 즉, 파티션 간의 이동이 없고, 내부 자료구조만 바꾸는 연산\n",
    "# glom()은 RDD의 각 파티션을 배열 형태로 변환하는 narrow transformation"
   ]
  },
  {
   "cell_type": "code",
   "execution_count": 35,
   "id": "132a34e4-8bd6-4fa1-9f14-911373f40bae",
   "metadata": {},
   "outputs": [
    {
     "data": {
      "text/plain": [
       "[[1, 5, 3], [9, 2, 8], [4, 7, 6]]"
      ]
     },
     "execution_count": 35,
     "metadata": {},
     "output_type": "execute_result"
    }
   ],
   "source": [
    "numbers.glom().collect() "
   ]
  },
  {
   "cell_type": "code",
   "execution_count": 36,
   "id": "e2efc0e6-36ab-4a81-839a-0b01e0ecc5ca",
   "metadata": {},
   "outputs": [],
   "source": [
    "numbers = sc.parallelize([1, 5, 3, 9, 2, 8, 4, 7, 6])"
   ]
  },
  {
   "cell_type": "code",
   "execution_count": 37,
   "id": "45d2cb57-91b6-4ae6-bc46-9d09521264c5",
   "metadata": {},
   "outputs": [
    {
     "data": {
      "text/plain": [
       "(45, 9)"
      ]
     },
     "execution_count": 37,
     "metadata": {},
     "output_type": "execute_result"
    }
   ],
   "source": [
    "# 평균 계산하기\n",
    "sum_count = numbers.aggregate(\n",
    "    (0, 0),  # 초기값 (합계, 개수)\n",
    "    lambda acc, value: (acc[0] + value, acc[1] + 1),  # 각 파티션 내 연산\n",
    "    lambda acc1, acc2: (acc1[0] + acc2[0], acc1[1] + acc2[1])  # 파티션 간 연산\n",
    ")\n",
    "sum_count"
   ]
  },
  {
   "cell_type": "code",
   "execution_count": 38,
   "id": "377805ab-7e05-4982-af4c-f023533d360f",
   "metadata": {},
   "outputs": [
    {
     "name": "stdout",
     "output_type": "stream",
     "text": [
      "Average: 5.0\n"
     ]
    }
   ],
   "source": [
    "average = sum_count[0] / sum_count[1]\n",
    "print(\"Average:\", average)  # 5.0"
   ]
  },
  {
   "cell_type": "code",
   "execution_count": 39,
   "id": "51c08227-d72a-4cd5-ac92-3b2c6d00d576",
   "metadata": {},
   "outputs": [],
   "source": [
    "spark.stop()\n",
    "sc.stop()"
   ]
  },
  {
   "cell_type": "code",
   "execution_count": null,
   "id": "09609164-787f-49c1-aa1c-95aa5ff50781",
   "metadata": {},
   "outputs": [],
   "source": []
  }
 ],
 "metadata": {
  "kernelspec": {
   "display_name": "Python 3 (ipykernel)",
   "language": "python",
   "name": "python3"
  },
  "language_info": {
   "codemirror_mode": {
    "name": "ipython",
    "version": 3
   },
   "file_extension": ".py",
   "mimetype": "text/x-python",
   "name": "python",
   "nbconvert_exporter": "python",
   "pygments_lexer": "ipython3",
   "version": "3.11.6"
  }
 },
 "nbformat": 4,
 "nbformat_minor": 5
}
