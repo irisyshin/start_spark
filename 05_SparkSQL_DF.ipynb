{
 "cells": [
  {
   "cell_type": "code",
   "execution_count": 1,
   "id": "73124cac-67c3-458a-a643-78dd50067938",
   "metadata": {},
   "outputs": [],
   "source": [
    "from pyspark import SparkConf, SparkContext\n",
    "conf = SparkConf().setMaster(\"local\").setAppName(\"spark_sql_basic2\")\n",
    "sc   = SparkContext(conf=conf)"
   ]
  },
  {
   "cell_type": "code",
   "execution_count": 2,
   "id": "57c755ee-9483-45d9-8790-cb8507c97f8c",
   "metadata": {},
   "outputs": [],
   "source": [
    "# RDD만을 이용한 데이터 추출"
   ]
  },
  {
   "cell_type": "code",
   "execution_count": 3,
   "id": "62064931-39fb-4d70-bb94-ecc6300b3a60",
   "metadata": {},
   "outputs": [],
   "source": [
    "\n",
    "movies_rdd = sc.parallelize([\n",
    "    (1, (\"어벤져스\", \"마블\")),\n",
    "    (2, (\"슈퍼맨\", \"DC\")),\n",
    "    (3, (\"배트맨\", \"DC\")),\n",
    "    (4, (\"겨울왕국\", \"디즈니\")),\n",
    "    (5, (\"아이언맨\", \"마블\"))\n",
    "])\n",
    "\n",
    "\n",
    "attendances_rdd = sc.parallelize([\n",
    "    (1, (13934592, \"KR\")),\n",
    "    (2, (2182227,\"KR\")),\n",
    "    (3, (4226242, \"KR\")),\n",
    "    (4, (10303058, \"KR\")),\n",
    "    (5, (4300365, \"KR\"))\n",
    "])"
   ]
  },
  {
   "cell_type": "code",
   "execution_count": 4,
   "id": "ee708262-d2a1-428a-90b4-5420d8cac134",
   "metadata": {},
   "outputs": [],
   "source": [
    "# 마블 영화 중 관객 수가 500만 이상인 영화를 가져오기"
   ]
  },
  {
   "cell_type": "code",
   "execution_count": 5,
   "id": "46572ff5-443f-4eb7-9bd8-9d2f29f28b28",
   "metadata": {},
   "outputs": [
    {
     "name": "stdout",
     "output_type": "stream",
     "text": [
      "[(2, (('슈퍼맨', 'DC'), (2182227, 'KR'))), (4, (('겨울왕국', '디즈니'), (10303058, 'KR'))), (1, (('어벤져스', '마블'), (13934592, 'KR')))]\n"
     ]
    },
    {
     "data": {
      "text/plain": [
       "[(1, (('어벤져스', '마블'), (13934592, 'KR')))]"
      ]
     },
     "execution_count": 5,
     "metadata": {},
     "output_type": "execute_result"
    }
   ],
   "source": [
    "# CASE1. join 먼저, filter 나중에\n",
    "movie_att = movies_rdd.join(attendances_rdd)\n",
    "print(movie_att.take(3))\n",
    "movie_att.filter(\n",
    "    lambda x : x[1][0][1] == \"마블\" and x[1][1][0] > 5000000\n",
    ").collect()"
   ]
  },
  {
   "cell_type": "code",
   "execution_count": 6,
   "id": "a39b1043-e899-4a72-8a63-0c4e70ff428b",
   "metadata": {},
   "outputs": [
    {
     "data": {
      "text/plain": [
       "[(1, (('어벤져스', '마블'), (13934592, 'KR')))]"
      ]
     },
     "execution_count": 6,
     "metadata": {},
     "output_type": "execute_result"
    }
   ],
   "source": [
    "# CASE 2. filter 먼저, join 나중에 -> 더 유리\n",
    "filtered_movies = movies_rdd.filter(lambda x : x[1][1] == '마블')\n",
    "filtered_att = attendances_rdd.filter(lambda x : x[1][0] > 5000000)\n",
    "\n",
    "filtered_movies.join(filtered_att).collect()"
   ]
  },
  {
   "cell_type": "code",
   "execution_count": 7,
   "id": "d5edd57b-e363-4134-b4da-269576516b3a",
   "metadata": {},
   "outputs": [],
   "source": [
    "sc.stop()"
   ]
  },
  {
   "cell_type": "code",
   "execution_count": 8,
   "id": "4bf221e2-7894-44af-95b1-673a828aaa37",
   "metadata": {},
   "outputs": [],
   "source": [
    "# Spark SQL 사용해 보기"
   ]
  },
  {
   "cell_type": "code",
   "execution_count": 29,
   "id": "1d6a6be2-6364-42ad-972f-ee733e41b85d",
   "metadata": {},
   "outputs": [],
   "source": [
    "from pyspark.sql import SparkSession\n",
    "spark = SparkSession.builder.master(\"local\").appName(\"spark-sql\").getOrCreate()"
   ]
  },
  {
   "cell_type": "code",
   "execution_count": 30,
   "id": "6d704416-8c08-42dd-abcb-c7c10b3de900",
   "metadata": {},
   "outputs": [],
   "source": [
    "# 컬럼 추가\n",
    "movies = [\n",
    "    (1, \"어벤져스\", \"마블\", 2012, 4, 26),\n",
    "    (2, \"슈퍼맨\", \"DC\", 2013, 6, 13),\n",
    "    (3, \"배트맨\", \"DC\", 2008, 8, 6),\n",
    "    (4, \"겨울왕국\", \"디즈니\", 2014, 1, 16),\n",
    "    (5, \"아이언맨\", \"마블\", 2008, 4, 30)\n",
    "]"
   ]
  },
  {
   "cell_type": "code",
   "execution_count": 31,
   "id": "445a1c74-a982-41b3-b420-81391fa8035b",
   "metadata": {},
   "outputs": [],
   "source": [
    "#스키마를 알아야 한다.\n",
    "movie_schema = [\"id\", \"name\", \"company\", \"year\", \"month\", \"day\"]"
   ]
  },
  {
   "cell_type": "code",
   "execution_count": 32,
   "id": "86f8b433-d021-4fb2-bdd2-5ec2e89934e2",
   "metadata": {},
   "outputs": [],
   "source": [
    "# 2. 데이터 프레임 만들기"
   ]
  },
  {
   "cell_type": "code",
   "execution_count": 33,
   "id": "f9d4f62e-fac5-42f7-9c42-6ce6edaf3ac5",
   "metadata": {},
   "outputs": [],
   "source": [
    "df = spark.createDataFrame(data=movies, schema=movie_schema)"
   ]
  },
  {
   "cell_type": "code",
   "execution_count": 34,
   "id": "ff4f4969-80e2-4926-a2ca-63d09f45a5b6",
   "metadata": {
    "scrolled": true
   },
   "outputs": [
    {
     "name": "stdout",
     "output_type": "stream",
     "text": [
      "+--------+\n",
      "|    name|\n",
      "+--------+\n",
      "|어벤져스|\n",
      "|  슈퍼맨|\n",
      "|  배트맨|\n",
      "|겨울왕국|\n",
      "|아이언맨|\n",
      "+--------+\n",
      "\n"
     ]
    }
   ],
   "source": [
    "df.select(\"name\").show()"
   ]
  },
  {
   "cell_type": "code",
   "execution_count": 35,
   "id": "20312673-ba68-45f6-8c39-d79f6687285f",
   "metadata": {},
   "outputs": [
    {
     "name": "stdout",
     "output_type": "stream",
     "text": [
      "+---+--------+-------+----+-----+---+\n",
      "| id|    name|company|year|month|day|\n",
      "+---+--------+-------+----+-----+---+\n",
      "|  1|어벤져스|   마블|2012|    4| 26|\n",
      "|  2|  슈퍼맨|     DC|2013|    6| 13|\n",
      "|  4|겨울왕국| 디즈니|2014|    1| 16|\n",
      "+---+--------+-------+----+-----+---+\n",
      "\n"
     ]
    }
   ],
   "source": [
    "df.filter(df.year >= 2010).show()"
   ]
  },
  {
   "cell_type": "code",
   "execution_count": 36,
   "id": "e9daf939-9807-4f83-a082-8bc47b50aa9c",
   "metadata": {},
   "outputs": [],
   "source": [
    "df.createOrReplaceTempView(\"movies\")"
   ]
  },
  {
   "cell_type": "code",
   "execution_count": 37,
   "id": "8810896e-cfea-47ea-aaa0-ad1ac42633d3",
   "metadata": {},
   "outputs": [
    {
     "data": {
      "text/plain": [
       "DataFrame[id: bigint, name: string, company: string, year: bigint, month: bigint, day: bigint]"
      ]
     },
     "execution_count": 37,
     "metadata": {},
     "output_type": "execute_result"
    }
   ],
   "source": [
    "df"
   ]
  },
  {
   "cell_type": "code",
   "execution_count": 38,
   "id": "e22b3ec2-caf9-4542-aa7f-07349bea1fcb",
   "metadata": {},
   "outputs": [
    {
     "data": {
      "text/plain": [
       "[('id', 'bigint'),\n",
       " ('name', 'string'),\n",
       " ('company', 'string'),\n",
       " ('year', 'bigint'),\n",
       " ('month', 'bigint'),\n",
       " ('day', 'bigint')]"
      ]
     },
     "execution_count": 38,
     "metadata": {},
     "output_type": "execute_result"
    }
   ],
   "source": [
    "df.dtypes"
   ]
  },
  {
   "cell_type": "code",
   "execution_count": 39,
   "id": "596ecaf5-ed3e-48d8-8cdc-a2d3d490f921",
   "metadata": {},
   "outputs": [
    {
     "name": "stdout",
     "output_type": "stream",
     "text": [
      "+---+--------+-------+----+-----+---+\n",
      "| id|    name|company|year|month|day|\n",
      "+---+--------+-------+----+-----+---+\n",
      "|  1|어벤져스|   마블|2012|    4| 26|\n",
      "|  2|  슈퍼맨|     DC|2013|    6| 13|\n",
      "|  3|  배트맨|     DC|2008|    8|  6|\n",
      "|  4|겨울왕국| 디즈니|2014|    1| 16|\n",
      "|  5|아이언맨|   마블|2008|    4| 30|\n",
      "+---+--------+-------+----+-----+---+\n",
      "\n"
     ]
    }
   ],
   "source": [
    "df.show()"
   ]
  },
  {
   "cell_type": "code",
   "execution_count": 40,
   "id": "275aad6a-d359-434e-86e6-26fdd557a5cb",
   "metadata": {},
   "outputs": [
    {
     "name": "stdout",
     "output_type": "stream",
     "text": [
      "+---+--------+-------+----+-----+---+\n",
      "| id|    name|company|year|month|day|\n",
      "+---+--------+-------+----+-----+---+\n",
      "|  1|어벤져스|   마블|2012|    4| 26|\n",
      "|  2|  슈퍼맨|     DC|2013|    6| 13|\n",
      "|  4|겨울왕국| 디즈니|2014|    1| 16|\n",
      "+---+--------+-------+----+-----+---+\n",
      "\n"
     ]
    }
   ],
   "source": [
    "df.filter(df.year >= 2010).show()"
   ]
  },
  {
   "cell_type": "code",
   "execution_count": 41,
   "id": "57309c0d-1717-4bbc-8e02-1215d638b704",
   "metadata": {},
   "outputs": [
    {
     "data": {
      "text/plain": [
       "DataFrame[id: bigint, name: string, company: string, year: bigint, month: bigint, day: bigint]"
      ]
     },
     "execution_count": 41,
     "metadata": {},
     "output_type": "execute_result"
    }
   ],
   "source": [
    "df"
   ]
  },
  {
   "cell_type": "code",
   "execution_count": 42,
   "id": "d60fc08f-49e4-4d77-bcfa-4d44a01fd6e6",
   "metadata": {},
   "outputs": [
    {
     "name": "stdout",
     "output_type": "stream",
     "text": [
      "+----+-----+---+\n",
      "|year|month|day|\n",
      "+----+-----+---+\n",
      "|2012|    4| 26|\n",
      "|2013|    6| 13|\n",
      "|2008|    8|  6|\n",
      "|2014|    1| 16|\n",
      "|2008|    4| 30|\n",
      "+----+-----+---+\n",
      "\n"
     ]
    }
   ],
   "source": [
    "# 년,월,일 \n",
    "df.select(\"year\", \"month\", \"day\").show()"
   ]
  },
  {
   "cell_type": "code",
   "execution_count": 43,
   "id": "98aefcb9-bade-463f-bdd4-d3427ea1e03c",
   "metadata": {
    "scrolled": true
   },
   "outputs": [
    {
     "name": "stdout",
     "output_type": "stream",
     "text": [
      "+---+--------+-------+----+-----+---+\n",
      "| id|    name|company|year|month|day|\n",
      "+---+--------+-------+----+-----+---+\n",
      "|  2|  슈퍼맨|     DC|2013|    6| 13|\n",
      "|  4|겨울왕국| 디즈니|2014|    1| 16|\n",
      "+---+--------+-------+----+-----+---+\n",
      "\n"
     ]
    }
   ],
   "source": [
    "# 2013 이후 영화\n",
    "df.filter(df.year >= 2013).show()\n"
   ]
  },
  {
   "cell_type": "code",
   "execution_count": 44,
   "id": "3a058fd6-2b29-4e54-ad06-d9a7e85e25d1",
   "metadata": {},
   "outputs": [
    {
     "name": "stdout",
     "output_type": "stream",
     "text": [
      "+---+--------+-------+----+-----+---+\n",
      "| id|    name|company|year|month|day|\n",
      "+---+--------+-------+----+-----+---+\n",
      "|  1|어벤져스|   마블|2012|    4| 26|\n",
      "|  2|  슈퍼맨|     DC|2013|    6| 13|\n",
      "|  3|  배트맨|     DC|2008|    8|  6|\n",
      "|  5|아이언맨|   마블|2008|    4| 30|\n",
      "+---+--------+-------+----+-----+---+\n",
      "\n"
     ]
    }
   ],
   "source": [
    "# 마블, DC 같이 꺼내기  \n",
    "df.filter((df.company == \"마블\") | (df.company == \"DC\")).show()\n"
   ]
  },
  {
   "cell_type": "code",
   "execution_count": 53,
   "id": "4a6032fc-4750-494d-a028-f12d5827d871",
   "metadata": {},
   "outputs": [],
   "source": [
    "df.createOrReplaceTempView('movies')"
   ]
  },
  {
   "cell_type": "markdown",
   "id": "1dc47604-2f5b-4bb9-9ede-8fe92d57a035",
   "metadata": {},
   "source": [
    "## SQL 실습 "
   ]
  },
  {
   "cell_type": "code",
   "execution_count": 46,
   "id": "e85b45e4-6fbe-4061-a3e5-591cfceeff18",
   "metadata": {},
   "outputs": [
    {
     "name": "stdout",
     "output_type": "stream",
     "text": [
      "+--------+\n",
      "|    name|\n",
      "+--------+\n",
      "|어벤져스|\n",
      "|  슈퍼맨|\n",
      "|  배트맨|\n",
      "|겨울왕국|\n",
      "|아이언맨|\n",
      "+--------+\n",
      "\n"
     ]
    }
   ],
   "source": [
    "# 영화 이름만 가져오기 \n",
    "\n",
    "query = \"\"\"\n",
    "SELECT name\n",
    "    FROM movies\n",
    "\n",
    "\"\"\"\n",
    "spark.sql(query).show()"
   ]
  },
  {
   "cell_type": "code",
   "execution_count": 49,
   "id": "f24eb187-722d-495b-af67-a375318d5ece",
   "metadata": {
    "scrolled": true
   },
   "outputs": [
    {
     "name": "stdout",
     "output_type": "stream",
     "text": [
      "+---+--------+-------+----+-----+---+\n",
      "| id|    name|company|year|month|day|\n",
      "+---+--------+-------+----+-----+---+\n",
      "|  1|어벤져스|   마블|2012|    4| 26|\n",
      "|  2|  슈퍼맨|     DC|2013|    6| 13|\n",
      "|  4|겨울왕국| 디즈니|2014|    1| 16|\n",
      "+---+--------+-------+----+-----+---+\n",
      "\n"
     ]
    }
   ],
   "source": [
    "# 2010년 이후에 개봉한 영화를 조회\n",
    "\n",
    "query = \"\"\"\n",
    "SELECT *\n",
    "FROM movies\n",
    "WHERE year >= 2010\n",
    "\"\"\"\n",
    "spark.sql(query).show()"
   ]
  },
  {
   "cell_type": "code",
   "execution_count": 50,
   "id": "733a6585-3b8e-43ef-9686-3e545c56a5b4",
   "metadata": {},
   "outputs": [
    {
     "name": "stdout",
     "output_type": "stream",
     "text": [
      "+--------+-------+\n",
      "|    name|company|\n",
      "+--------+-------+\n",
      "|  배트맨|     DC|\n",
      "|아이언맨|   마블|\n",
      "+--------+-------+\n",
      "\n"
     ]
    }
   ],
   "source": [
    "# 2012년도 이전에 개봉한 영화의 이름과 회사를 출력\n",
    "query = \"\"\"\n",
    "SELECT name, company\n",
    "FROM movies\n",
    "WHERE year < 2012\n",
    "\"\"\"\n",
    "spark.sql(query).show()"
   ]
  },
  {
   "cell_type": "code",
   "execution_count": 51,
   "id": "275a37e2-975c-4ffb-afd8-93f3fc7d9a65",
   "metadata": {},
   "outputs": [
    {
     "name": "stdout",
     "output_type": "stream",
     "text": [
      "+---+--------+-------+----+-----+---+\n",
      "| id|    name|company|year|month|day|\n",
      "+---+--------+-------+----+-----+---+\n",
      "|  2|  슈퍼맨|     DC|2013|    6| 13|\n",
      "|  3|  배트맨|     DC|2008|    8|  6|\n",
      "|  5|아이언맨|   마블|2008|    4| 30|\n",
      "+---+--------+-------+----+-----+---+\n",
      "\n"
     ]
    }
   ],
   "source": [
    "# like 문자열 데이터에서 특정 단어나 문장을 포함한 데이터를 찾을 때\n",
    "# % 기호를 사용해서 문장이 매칭되는지 확인 가능!\n",
    "# 제목이 ~~맨으로 끝나는 데이터의 모든 정보를 조회\n",
    "query = \"\"\"\n",
    "SELECT *\n",
    "FROM movies \n",
    "WHERE name LIKE '%맨'\n",
    "\"\"\"\n",
    "spark.sql(query).show()"
   ]
  },
  {
   "cell_type": "code",
   "execution_count": 52,
   "id": "fbc1e78e-3314-434c-ae29-0d698ceb5132",
   "metadata": {},
   "outputs": [
    {
     "name": "stdout",
     "output_type": "stream",
     "text": [
      "+---+--------+-------+----+-----+---+\n",
      "| id|    name|company|year|month|day|\n",
      "+---+--------+-------+----+-----+---+\n",
      "|  1|어벤져스|   마블|2012|    4| 26|\n",
      "|  2|  슈퍼맨|     DC|2013|    6| 13|\n",
      "|  3|  배트맨|     DC|2008|    8|  6|\n",
      "|  5|아이언맨|   마블|2008|    4| 30|\n",
      "+---+--------+-------+----+-----+---+\n",
      "\n"
     ]
    }
   ],
   "source": [
    "\n",
    "# BETWEEN 특정 데이터와 데이터 사이를 조회\n",
    "\n",
    "# 개봉 월이 4 ~ 8월 사이. 4 <= 개봉월 <= 8\n",
    "\n",
    "query = \"\"\"\n",
    "SELECT *\n",
    "FROM movies \n",
    "WHERE month BETWEEN 4 AND 8\n",
    "\"\"\"\n",
    "spark.sql(query).show()"
   ]
  },
  {
   "cell_type": "code",
   "execution_count": null,
   "id": "92d0a753-fac1-4151-a016-c09511132f21",
   "metadata": {},
   "outputs": [],
   "source": []
  },
  {
   "cell_type": "code",
   "execution_count": null,
   "id": "20690144-20a2-4126-888c-b1074bd835bd",
   "metadata": {},
   "outputs": [],
   "source": [
    "# Join 구현하기"
   ]
  },
  {
   "cell_type": "code",
   "execution_count": 56,
   "id": "dc365151-3703-444c-a100-48ad4046e7fc",
   "metadata": {},
   "outputs": [],
   "source": [
    "\n",
    "attendances = [\n",
    "    (1, 13934592., \"KR\"),\n",
    "    (2, 2182227.,\"KR\"),\n",
    "    (3, 4226242., \"KR\"),\n",
    "    (4, 10303058., \"KR\"),\n",
    "    (5, 4300365., \"KR\")\n",
    "]"
   ]
  },
  {
   "cell_type": "code",
   "execution_count": 57,
   "id": "e395f667-08ab-4e02-bbf8-dad62b1b9acb",
   "metadata": {},
   "outputs": [],
   "source": [
    "# 직접 스키마 지정해 보기\n",
    "from pyspark.sql.types import StringType, FloatType\\\n",
    "    , IntegerType\\\n",
    "    , StructType, StructField"
   ]
  },
  {
   "cell_type": "code",
   "execution_count": 58,
   "id": "406d3d10-b99b-4677-b203-459d4e73b0a6",
   "metadata": {},
   "outputs": [],
   "source": [
    "att_schema = StructType([ # 모든 컬럼의 타입을 통칭 - 컬럼 데이터의 집합\n",
    "    StructField(\"id\", IntegerType(), True), # StructField : 컬럼\n",
    "    StructField(\"att\", FloatType(), True),\n",
    "    StructField(\"theater_country\", StringType(), True)\n",
    "])"
   ]
  },
  {
   "cell_type": "code",
   "execution_count": 59,
   "id": "5c49e812-3a29-4b4b-8de1-3ad36b1da102",
   "metadata": {},
   "outputs": [
    {
     "data": {
      "text/plain": [
       "[('id', 'int'), ('att', 'float'), ('theater_country', 'string')]"
      ]
     },
     "execution_count": 59,
     "metadata": {},
     "output_type": "execute_result"
    }
   ],
   "source": [
    "\n",
    "att_df = spark.createDataFrame(\n",
    "    data=attendances,\n",
    "    schema=att_schema\n",
    ")\n",
    "\n",
    "att_df.dtypes"
   ]
  },
  {
   "cell_type": "code",
   "execution_count": 60,
   "id": "79d1c138-86c5-4ddd-812e-301655451a0e",
   "metadata": {},
   "outputs": [],
   "source": [
    "att_df.createOrReplaceTempView(\"att\")"
   ]
  },
  {
   "cell_type": "code",
   "execution_count": 67,
   "id": "0e28ade1-0b13-4494-a968-b87ee30df0e0",
   "metadata": {
    "scrolled": true
   },
   "outputs": [
    {
     "name": "stdout",
     "output_type": "stream",
     "text": [
      "+---+-----------+---------------+\n",
      "| id|        att|theater_country|\n",
      "+---+-----------+---------------+\n",
      "|  1|1.3934592E7|             KR|\n",
      "|  2|  2182227.0|             KR|\n",
      "|  3|  4226242.0|             KR|\n",
      "|  4|1.0303058E7|             KR|\n",
      "|  5|  4300365.0|             KR|\n",
      "+---+-----------+---------------+\n",
      "\n"
     ]
    }
   ],
   "source": [
    "att_df.select('*').show()"
   ]
  },
  {
   "cell_type": "code",
   "execution_count": 68,
   "id": "f19819aa-f7d2-42f7-9778-34b51f0bdfd3",
   "metadata": {},
   "outputs": [
    {
     "name": "stdout",
     "output_type": "stream",
     "text": [
      "+---+--------+-------+-----------+\n",
      "| id|    name|company|        att|\n",
      "+---+--------+-------+-----------+\n",
      "|  1|어벤져스|   마블|1.3934592E7|\n",
      "|  2|  슈퍼맨|     DC|  2182227.0|\n",
      "|  3|  배트맨|     DC|  4226242.0|\n",
      "|  4|겨울왕국| 디즈니|1.0303058E7|\n",
      "|  5|아이언맨|   마블|  4300365.0|\n",
      "+---+--------+-------+-----------+\n",
      "\n"
     ]
    }
   ],
   "source": [
    "# df와 join\n",
    "query = \"\"\"\n",
    "SELECT movies.id, movies.name, movies.company, att.att\n",
    "FROM movies \n",
    "JOIN att ON movies.id = att.id\n",
    "\"\"\"\n",
    "spark.sql(query).show()"
   ]
  },
  {
   "cell_type": "code",
   "execution_count": 69,
   "id": "44510045-c48d-4252-ae72-ebeaba862f56",
   "metadata": {},
   "outputs": [],
   "source": [
    "spark.stop()"
   ]
  },
  {
   "cell_type": "code",
   "execution_count": null,
   "id": "ceea8b49-beed-46a0-ab5e-220852e30aa4",
   "metadata": {},
   "outputs": [],
   "source": [
    "# 데이터 프레임 API"
   ]
  },
  {
   "cell_type": "code",
   "execution_count": null,
   "id": "0ec5e568-23bb-47a0-9c9a-d8ee8581c684",
   "metadata": {},
   "outputs": [],
   "source": [
    "# select\n",
    "df.select(\"*\").collect()"
   ]
  },
  {
   "cell_type": "code",
   "execution_count": null,
   "id": "73334616-316a-47ba-bbca-3780b58fe6c7",
   "metadata": {},
   "outputs": [],
   "source": [
    "df.select(\"name\", \"company\").collect()"
   ]
  },
  {
   "cell_type": "code",
   "execution_count": null,
   "id": "40db9364-606b-4974-873a-5fd5ef3a8918",
   "metadata": {},
   "outputs": [],
   "source": [
    "df.select(df.name, (df.year-2000).alias(\"year\")).show()"
   ]
  },
  {
   "cell_type": "code",
   "execution_count": null,
   "id": "edb58352-d6b8-4545-a335-632d52473def",
   "metadata": {},
   "outputs": [],
   "source": [
    "# agg : Aggreagte의 약자로써, 그룹핑 후 데이터를 하나로 합쳐주는 역할\n",
    "df.agg({\"id\": \"count\"}).collect()"
   ]
  },
  {
   "cell_type": "code",
   "execution_count": null,
   "id": "757c9f7c-6836-4924-8f08-b01e5272d541",
   "metadata": {},
   "outputs": [],
   "source": []
  },
  {
   "cell_type": "code",
   "execution_count": null,
   "id": "51212c6f-0199-49ba-9995-09783594c41e",
   "metadata": {},
   "outputs": [],
   "source": [
    "from pyspark.sql import functions as F\n",
    "df.agg(F.min(df.year)).collect()"
   ]
  },
  {
   "cell_type": "code",
   "execution_count": null,
   "id": "336d60a1-222c-4e5a-8a73-ec74fc187862",
   "metadata": {},
   "outputs": [],
   "source": [
    "df.groupBy().avg().collect()"
   ]
  },
  {
   "cell_type": "code",
   "execution_count": null,
   "id": "03955127-cabe-4020-803a-d80605ec090d",
   "metadata": {},
   "outputs": [],
   "source": [
    "# 회사별 개봉월의 평균\n",
    "df.groupBy('company').agg({\"month\": \"mean\"}).collect()"
   ]
  },
  {
   "cell_type": "code",
   "execution_count": null,
   "id": "94641161-4fda-4170-97a6-0f04728b4aa5",
   "metadata": {},
   "outputs": [],
   "source": [
    "# 회사 별 월 별 영화 개수 정보\n"
   ]
  },
  {
   "cell_type": "code",
   "execution_count": null,
   "id": "d8807e25-22f4-439a-91fe-e51c5ce34f71",
   "metadata": {},
   "outputs": [],
   "source": [
    "# join : 다른 데이터 프레임과 사용자가 지정한 컬럼을 기준으로 합치는 작업\n",
    "df.join(att_df, 'id').select(df.name, att_df.att).show()"
   ]
  },
  {
   "cell_type": "code",
   "execution_count": null,
   "id": "973769b0-f1cd-4b87-8172-805f3bcdce85",
   "metadata": {},
   "outputs": [],
   "source": []
  },
  {
   "cell_type": "code",
   "execution_count": null,
   "id": "15abf176-7d4b-4233-bba1-bd032c66ef63",
   "metadata": {},
   "outputs": [],
   "source": [
    "# select, where, orderBy 절 사용\n",
    "marvel_df = df.select(\"name\", \"company\", \"year\").where(\"company=='마블'\").orderBy(\"id\")\n",
    "marvel_df.collect()"
   ]
  },
  {
   "cell_type": "code",
   "execution_count": null,
   "id": "195c87a5-3db2-41d8-a6da-b47d6e030e1f",
   "metadata": {},
   "outputs": [],
   "source": [
    "spark.stop()\n",
    "sc.stop()"
   ]
  },
  {
   "cell_type": "code",
   "execution_count": null,
   "id": "8327cca2-6eca-4090-b1e1-004f28e598ff",
   "metadata": {},
   "outputs": [],
   "source": []
  },
  {
   "cell_type": "code",
   "execution_count": null,
   "id": "f27c205c-c9d3-4f7f-90bf-aeeffda08ec8",
   "metadata": {},
   "outputs": [],
   "source": [
    "# SQL 최적화"
   ]
  },
  {
   "cell_type": "code",
   "execution_count": 70,
   "id": "6824043e-9457-4f3f-9ca5-f3aa89b29087",
   "metadata": {},
   "outputs": [],
   "source": [
    "from pyspark.sql import SparkSession\n",
    "\n",
    "spark = SparkSession.builder.appName(\"trip_count_sql\").getOrCreate()"
   ]
  },
  {
   "cell_type": "code",
   "execution_count": 73,
   "id": "00b00cb7-73f7-4011-8b53-b0df55938fcc",
   "metadata": {},
   "outputs": [],
   "source": [
    "trip_file = \"learning_spark_data/fhvhv_tripdata_2020-03.csv\""
   ]
  },
  {
   "cell_type": "code",
   "execution_count": 74,
   "id": "071ddd29-2ab5-412b-be45-0d067175d321",
   "metadata": {},
   "outputs": [],
   "source": [
    "# inferSchema : 자동으로 스키마 예측하게 하기\n",
    "data = spark.read.csv(trip_file, inferSchema=True, header=True)"
   ]
  },
  {
   "cell_type": "code",
   "execution_count": null,
   "id": "837bd54d-1d5c-4cbb-bc09-76ecbe678e81",
   "metadata": {},
   "outputs": [],
   "source": []
  },
  {
   "cell_type": "code",
   "execution_count": 75,
   "id": "9fdfa452-8e10-4401-802c-b7fb1df93aac",
   "metadata": {},
   "outputs": [],
   "source": [
    "data.createOrReplaceTempView(\"mobility_data\")"
   ]
  },
  {
   "cell_type": "code",
   "execution_count": 76,
   "id": "9d4843ad-cdc8-40de-9970-9e8ba15b32bc",
   "metadata": {},
   "outputs": [
    {
     "name": "stdout",
     "output_type": "stream",
     "text": [
      "+-----------------+--------------------+-------------------+-------------------+------------+------------+-------+\n",
      "|hvfhs_license_num|dispatching_base_num|    pickup_datetime|   dropoff_datetime|PULocationID|DOLocationID|SR_Flag|\n",
      "+-----------------+--------------------+-------------------+-------------------+------------+------------+-------+\n",
      "|           HV0005|              B02510|2020-03-01 00:03:40|2020-03-01 00:23:39|          81|         159|   NULL|\n",
      "|           HV0005|              B02510|2020-03-01 00:28:05|2020-03-01 00:38:57|         168|         119|   NULL|\n",
      "|           HV0003|              B02764|2020-03-01 00:03:07|2020-03-01 00:15:04|         137|         209|      1|\n",
      "|           HV0003|              B02764|2020-03-01 00:18:42|2020-03-01 00:38:42|         209|          80|   NULL|\n",
      "|           HV0003|              B02764|2020-03-01 00:44:24|2020-03-01 00:58:44|         256|         226|   NULL|\n",
      "+-----------------+--------------------+-------------------+-------------------+------------+------------+-------+\n",
      "\n"
     ]
    }
   ],
   "source": [
    "query = \"\"\"\n",
    "select *\n",
    "from mobility_data\n",
    "limit 5\n",
    "\"\"\"\n",
    "spark.sql(query).show()"
   ]
  },
  {
   "cell_type": "code",
   "execution_count": null,
   "id": "737f9776-6194-4eeb-9144-96f88802f396",
   "metadata": {},
   "outputs": [],
   "source": []
  },
  {
   "cell_type": "code",
   "execution_count": null,
   "id": "d0071187-c4f9-44f5-8716-ab5cbef1fc36",
   "metadata": {},
   "outputs": [],
   "source": [
    "# 스파크 SQL을 사용하는 이유"
   ]
  },
  {
   "cell_type": "code",
   "execution_count": 77,
   "id": "6b8134e5-bb59-411d-9d1c-c31bb358beee",
   "metadata": {},
   "outputs": [
    {
     "name": "stdout",
     "output_type": "stream",
     "text": [
      "+-----------+------+\n",
      "|pickup_date| trips|\n",
      "+-----------+------+\n",
      "| 2020-03-03|697880|\n",
      "| 2020-03-02|648986|\n",
      "| 2020-03-01|784246|\n",
      "| 2020-03-06|872012|\n",
      "| 2020-03-05|731165|\n",
      "| 2020-03-04|707879|\n",
      "| 2020-03-09|628940|\n",
      "| 2020-03-08|731222|\n",
      "| 2020-03-07|886071|\n",
      "| 2020-03-10|626474|\n",
      "| 2020-03-12|643257|\n",
      "| 2020-03-11|628601|\n",
      "| 2020-03-16|391518|\n",
      "| 2020-03-13|660914|\n",
      "| 2020-03-15|448125|\n",
      "| 2020-03-14|569397|\n",
      "| 2020-03-26|141607|\n",
      "| 2020-03-25|141088|\n",
      "| 2020-03-20|261900|\n",
      "| 2020-03-24|141686|\n",
      "+-----------+------+\n",
      "only showing top 20 rows\n",
      "\n"
     ]
    }
   ],
   "source": [
    "query = \"\"\"\n",
    "\n",
    "select split(pickup_datetime, ' ')[0] as pickup_date, count(*) as trips\n",
    "from mobility_data\n",
    "\n",
    "group by pickup_date\n",
    "\"\"\"\n",
    "\n",
    "spark.sql(query).show()"
   ]
  },
  {
   "cell_type": "code",
   "execution_count": 78,
   "id": "30eb5a6f-2246-4e55-b6f1-aef9fdce364a",
   "metadata": {},
   "outputs": [
    {
     "name": "stdout",
     "output_type": "stream",
     "text": [
      "== Parsed Logical Plan ==\n",
      "'Aggregate ['pickup_date], ['split('pickup_datetime,  )[0] AS pickup_date#614, 'count(1) AS trips#615]\n",
      "+- 'UnresolvedRelation [mobility_data], [], false\n",
      "\n",
      "== Analyzed Logical Plan ==\n",
      "pickup_date: string, trips: bigint\n",
      "Aggregate [split(cast(pickup_datetime#541 as string),  , -1)[0]], [split(cast(pickup_datetime#541 as string),  , -1)[0] AS pickup_date#614, count(1) AS trips#615L]\n",
      "+- SubqueryAlias mobility_data\n",
      "   +- View (`mobility_data`, [hvfhs_license_num#539,dispatching_base_num#540,pickup_datetime#541,dropoff_datetime#542,PULocationID#543,DOLocationID#544,SR_Flag#545])\n",
      "      +- Relation [hvfhs_license_num#539,dispatching_base_num#540,pickup_datetime#541,dropoff_datetime#542,PULocationID#543,DOLocationID#544,SR_Flag#545] csv\n",
      "\n",
      "== Optimized Logical Plan ==\n",
      "Aggregate [_groupingexpression#619], [_groupingexpression#619 AS pickup_date#614, count(1) AS trips#615L]\n",
      "+- Project [split(cast(pickup_datetime#541 as string),  , -1)[0] AS _groupingexpression#619]\n",
      "   +- Relation [hvfhs_license_num#539,dispatching_base_num#540,pickup_datetime#541,dropoff_datetime#542,PULocationID#543,DOLocationID#544,SR_Flag#545] csv\n",
      "\n",
      "== Physical Plan ==\n",
      "AdaptiveSparkPlan isFinalPlan=false\n",
      "+- HashAggregate(keys=[_groupingexpression#619], functions=[count(1)], output=[pickup_date#614, trips#615L])\n",
      "   +- Exchange hashpartitioning(_groupingexpression#619, 200), ENSURE_REQUIREMENTS, [plan_id=805]\n",
      "      +- HashAggregate(keys=[_groupingexpression#619], functions=[partial_count(1)], output=[_groupingexpression#619, count#621L])\n",
      "         +- Project [split(cast(pickup_datetime#541 as string),  , -1)[0] AS _groupingexpression#619]\n",
      "            +- FileScan csv [pickup_datetime#541] Batched: false, DataFilters: [], Format: CSV, Location: InMemoryFileIndex(1 paths)[file:/home/jovyan/work/learning_spark_data/fhvhv_tripdata_2020-03.csv], PartitionFilters: [], PushedFilters: [], ReadSchema: struct<pickup_datetime:timestamp>\n",
      "\n"
     ]
    }
   ],
   "source": [
    "# 실행 계획 살펴보기\n",
    "spark.sql(query).explain(True)"
   ]
  },
  {
   "cell_type": "code",
   "execution_count": null,
   "id": "de790c06-75d5-4f02-b4e0-213444ef1297",
   "metadata": {},
   "outputs": [],
   "source": []
  },
  {
   "cell_type": "code",
   "execution_count": 79,
   "id": "6d5fe4a0-a753-4fc1-b80a-67e49b31b258",
   "metadata": {},
   "outputs": [
    {
     "name": "stdout",
     "output_type": "stream",
     "text": [
      "== Parsed Logical Plan ==\n",
      "'Aggregate ['pickup_date], ['pickup_date, 'count(1) AS trips#623]\n",
      "+- 'SubqueryAlias __auto_generated_subquery_name\n",
      "   +- 'Project ['split('pickup_datetime,  )[0] AS pickup_date#622]\n",
      "      +- 'UnresolvedRelation [mobility_data], [], false\n",
      "\n",
      "== Analyzed Logical Plan ==\n",
      "pickup_date: string, trips: bigint\n",
      "Aggregate [pickup_date#622], [pickup_date#622, count(1) AS trips#623L]\n",
      "+- SubqueryAlias __auto_generated_subquery_name\n",
      "   +- Project [split(cast(pickup_datetime#541 as string),  , -1)[0] AS pickup_date#622]\n",
      "      +- SubqueryAlias mobility_data\n",
      "         +- View (`mobility_data`, [hvfhs_license_num#539,dispatching_base_num#540,pickup_datetime#541,dropoff_datetime#542,PULocationID#543,DOLocationID#544,SR_Flag#545])\n",
      "            +- Relation [hvfhs_license_num#539,dispatching_base_num#540,pickup_datetime#541,dropoff_datetime#542,PULocationID#543,DOLocationID#544,SR_Flag#545] csv\n",
      "\n",
      "== Optimized Logical Plan ==\n",
      "Aggregate [pickup_date#622], [pickup_date#622, count(1) AS trips#623L]\n",
      "+- Project [split(cast(pickup_datetime#541 as string),  , -1)[0] AS pickup_date#622]\n",
      "   +- Relation [hvfhs_license_num#539,dispatching_base_num#540,pickup_datetime#541,dropoff_datetime#542,PULocationID#543,DOLocationID#544,SR_Flag#545] csv\n",
      "\n",
      "== Physical Plan ==\n",
      "AdaptiveSparkPlan isFinalPlan=false\n",
      "+- HashAggregate(keys=[pickup_date#622], functions=[count(1)], output=[pickup_date#622, trips#623L])\n",
      "   +- Exchange hashpartitioning(pickup_date#622, 200), ENSURE_REQUIREMENTS, [plan_id=820]\n",
      "      +- HashAggregate(keys=[pickup_date#622], functions=[partial_count(1)], output=[pickup_date#622, count#628L])\n",
      "         +- Project [split(cast(pickup_datetime#541 as string),  , -1)[0] AS pickup_date#622]\n",
      "            +- FileScan csv [pickup_datetime#541] Batched: false, DataFilters: [], Format: CSV, Location: InMemoryFileIndex(1 paths)[file:/home/jovyan/work/learning_spark_data/fhvhv_tripdata_2020-03.csv], PartitionFilters: [], PushedFilters: [], ReadSchema: struct<pickup_datetime:timestamp>\n",
      "\n"
     ]
    }
   ],
   "source": [
    "# 두번째 쿼리\n",
    "spark.sql(\"\"\"select \n",
    "                pickup_date, \n",
    "                count(*) as trips\n",
    "             from ( select\n",
    "                          split(pickup_datetime, ' ')[0] as pickup_date\n",
    "                          from mobility_data )\n",
    "             group by pickup_date\"\"\").explain(True)"
   ]
  },
  {
   "cell_type": "code",
   "execution_count": null,
   "id": "c754e8a1-6381-41a0-9d12-a6d7796b9500",
   "metadata": {},
   "outputs": [],
   "source": []
  },
  {
   "cell_type": "code",
   "execution_count": 80,
   "id": "06d730f7-78ea-471f-946b-d0678ab227f5",
   "metadata": {},
   "outputs": [],
   "source": [
    "spark.stop()"
   ]
  },
  {
   "cell_type": "code",
   "execution_count": 81,
   "id": "971e0e07-04ea-47b3-9e62-4c4fd4d1cda5",
   "metadata": {},
   "outputs": [],
   "source": [
    "sc.stop()"
   ]
  },
  {
   "cell_type": "code",
   "execution_count": 82,
   "id": "59b395d7-17dc-4681-9bbb-63d075da63ee",
   "metadata": {},
   "outputs": [],
   "source": [
    "# 운행 데이터 프레임 생성, Zone 데이터 프레임 생성"
   ]
  },
  {
   "cell_type": "code",
   "execution_count": 83,
   "id": "ec5a6656-007a-4a41-a7a9-a9ffacb55818",
   "metadata": {},
   "outputs": [],
   "source": [
    "trip_file = \"fhvhv_tripdata_2020-03.csv\"\n",
    "zone_file = \"taxi+_zone_lookup.csv\""
   ]
  },
  {
   "cell_type": "code",
   "execution_count": 84,
   "id": "c04cf90f-995d-44d7-8370-23812d5ce020",
   "metadata": {},
   "outputs": [],
   "source": [
    "from pyspark.sql import SparkSession\n",
    "\n",
    "spark = SparkSession.builder.appName(\"trip_count_sql\").getOrCreate()"
   ]
  },
  {
   "cell_type": "code",
   "execution_count": 86,
   "id": "e76a439c-52e3-4698-99ae-465806feecf3",
   "metadata": {},
   "outputs": [],
   "source": [
    "#운행 데이터 프레임 생성, Zone 데이터프레임 생성\n",
    "trip_data = spark.read.format(\"csv\")\\\n",
    "    .option(\"header\", 'true')\\\n",
    "    .option('inferSchema', 'true')\\\n",
    "    .load('learning_spark_data/fhvhv_tripdata_2020-03.csv')\n",
    "zone_data = spark.read.format(\"csv\")\\\n",
    "    .option(\"header\", 'true')\\\n",
    "    .option('inferSchema', 'true')\\\n",
    "    .load('learning_spark_data/taxi+_zone_lookup.csv')"
   ]
  },
  {
   "cell_type": "code",
   "execution_count": 87,
   "id": "dd7b49f6-d084-4433-84f6-0e5d27f43db9",
   "metadata": {},
   "outputs": [
    {
     "name": "stdout",
     "output_type": "stream",
     "text": [
      "root\n",
      " |-- hvfhs_license_num: string (nullable = true)\n",
      " |-- dispatching_base_num: string (nullable = true)\n",
      " |-- pickup_datetime: timestamp (nullable = true)\n",
      " |-- dropoff_datetime: timestamp (nullable = true)\n",
      " |-- PULocationID: integer (nullable = true)\n",
      " |-- DOLocationID: integer (nullable = true)\n",
      " |-- SR_Flag: integer (nullable = true)\n",
      "\n"
     ]
    }
   ],
   "source": [
    "trip_data.printSchema()"
   ]
  },
  {
   "cell_type": "code",
   "execution_count": 88,
   "id": "3b16eeb8-7ef8-43df-ae25-9e00ac192161",
   "metadata": {},
   "outputs": [
    {
     "name": "stdout",
     "output_type": "stream",
     "text": [
      "root\n",
      " |-- LocationID: integer (nullable = true)\n",
      " |-- Borough: string (nullable = true)\n",
      " |-- Zone: string (nullable = true)\n",
      " |-- service_zone: string (nullable = true)\n",
      "\n"
     ]
    }
   ],
   "source": [
    "zone_data.printSchema()"
   ]
  },
  {
   "cell_type": "code",
   "execution_count": null,
   "id": "2d7b3d88-11c8-41e9-b0a6-5caf9b462d8a",
   "metadata": {},
   "outputs": [],
   "source": [
    "## 승차 Location(PULocationID)별 개수 세기\n",
    "# 하차 Location(DOLocationID)별 개수 세기\n",
    "#HV0003 운송사업자의 승차 지역별 트립 건수를 집계하고, \n",
    "#가장 많은 운송사업자순으로 정렬하는 분석 쿼리  hvfhs_license_num\n",
    "#운송사별 운행 건수 비교\n",
    "#승차 위치 Borough별 운행 건수\n",
    "#서비스 존별 승차/하차 건수"
   ]
  },
  {
   "cell_type": "code",
   "execution_count": 90,
   "id": "28f7a3a0-1511-40af-99a1-203a3e0c7a40",
   "metadata": {},
   "outputs": [
    {
     "name": "stdout",
     "output_type": "stream",
     "text": [
      "trip data column:  ['hvfhs_license_num', 'dispatching_base_num', 'pickup_datetime', 'dropoff_datetime', 'PULocationID', 'DOLocationID', 'SR_Flag']\n",
      "zone data column:  ['LocationID', 'Borough', 'Zone', 'service_zone']\n",
      "+-----------------+--------------------+-------------------+-------------------+------------+------------+-------+\n",
      "|hvfhs_license_num|dispatching_base_num|    pickup_datetime|   dropoff_datetime|PULocationID|DOLocationID|SR_Flag|\n",
      "+-----------------+--------------------+-------------------+-------------------+------------+------------+-------+\n",
      "|           HV0005|              B02510|2020-03-01 00:03:40|2020-03-01 00:23:39|          81|         159|   NULL|\n",
      "|           HV0005|              B02510|2020-03-01 00:28:05|2020-03-01 00:38:57|         168|         119|   NULL|\n",
      "|           HV0003|              B02764|2020-03-01 00:03:07|2020-03-01 00:15:04|         137|         209|      1|\n",
      "+-----------------+--------------------+-------------------+-------------------+------------+------------+-------+\n",
      "only showing top 3 rows\n",
      "\n",
      "None\n",
      "+----------+-------+--------------------+------------+\n",
      "|LocationID|Borough|                Zone|service_zone|\n",
      "+----------+-------+--------------------+------------+\n",
      "|         1|    EWR|      Newark Airport|         EWR|\n",
      "|         2| Queens|         Jamaica Bay|   Boro Zone|\n",
      "|         3|  Bronx|Allerton/Pelham G...|   Boro Zone|\n",
      "+----------+-------+--------------------+------------+\n",
      "only showing top 3 rows\n",
      "\n",
      "None\n"
     ]
    }
   ],
   "source": [
    "# csv 컬럼, 내용 확인 \n",
    "print('trip data column: ', trip_data.columns)\n",
    "print('zone data column: ', zone_data.columns)\n",
    "print(trip_data.show(3))\n",
    "print(zone_data.show(3))"
   ]
  },
  {
   "cell_type": "code",
   "execution_count": 93,
   "id": "bf582076-c610-432e-8445-d19279ff7c22",
   "metadata": {},
   "outputs": [
    {
     "name": "stdout",
     "output_type": "stream",
     "text": [
      "+------------+------------+\n",
      "|PULocationID|pickup_count|\n",
      "+------------+------------+\n",
      "|           1|         362|\n",
      "|           2|          23|\n",
      "|           3|       34076|\n",
      "|           4|       49145|\n",
      "|           5|        3189|\n",
      "|           6|        6283|\n",
      "|           7|      125458|\n",
      "|           8|         297|\n",
      "|           9|       10448|\n",
      "|          10|       44290|\n",
      "+------------+------------+\n",
      "only showing top 10 rows\n",
      "\n"
     ]
    }
   ],
   "source": [
    "#승차 Location(PULocationID)별 개수 세기\n",
    "from pyspark.sql.functions import col, count\n",
    "\n",
    "trip_data.groupBy('PULocationID')\\\n",
    "    .agg(count('*').alias('pickup_count'))\\\n",
    "    .orderBy(col('PULocationID'))\\\n",
    "    .show(10)"
   ]
  },
  {
   "cell_type": "code",
   "execution_count": 94,
   "id": "9d04a2dd-530b-400d-91d3-7e79472886bc",
   "metadata": {},
   "outputs": [
    {
     "name": "stdout",
     "output_type": "stream",
     "text": [
      "+------------+------------+\n",
      "|DOLocationID|pickup_count|\n",
      "+------------+------------+\n",
      "|           1|       65066|\n",
      "|           2|          21|\n",
      "|           3|       32728|\n",
      "|           4|       41781|\n",
      "|           5|        3126|\n",
      "|           6|        6541|\n",
      "|           7|      124255|\n",
      "|           8|         340|\n",
      "|           9|       10554|\n",
      "|          10|       36941|\n",
      "+------------+------------+\n",
      "only showing top 10 rows\n",
      "\n"
     ]
    }
   ],
   "source": [
    "# 하차 Location(DOLocationID)별 개수 세기\n",
    "trip_data.groupBy('DOLocationID')\\\n",
    "    .agg(count('*').alias('pickup_count'))\\\n",
    "    .orderBy(col('DOLocationID'))\\\n",
    "    .show(10)"
   ]
  },
  {
   "cell_type": "code",
   "execution_count": 97,
   "id": "4a2d9647-167b-4a93-88fe-7308dcc83d3e",
   "metadata": {},
   "outputs": [
    {
     "name": "stdout",
     "output_type": "stream",
     "text": [
      "+------------+----------+\n",
      "|PULocationID|trip_count|\n",
      "+------------+----------+\n",
      "|          61|    163091|\n",
      "|          76|    134198|\n",
      "|         132|    114179|\n",
      "|          79|    112017|\n",
      "|          37|    110150|\n",
      "|          42|    108070|\n",
      "|         138|    104119|\n",
      "|         244|     97324|\n",
      "|          89|     95724|\n",
      "|          39|     94484|\n",
      "+------------+----------+\n",
      "only showing top 10 rows\n",
      "\n"
     ]
    }
   ],
   "source": [
    "#HV0003 운송사업자의 승차 지역별 트립 건수를 집계하고,\n",
    "#가장 많은 운송사업자순으로 정렬하는 분석 쿼리  hvfhs_license_num\n",
    "trip_data.filter(col('hvfhs_license_num') == 'HV0003')\\\n",
    "        .groupBy('PULocationID')\\\n",
    "        .agg(count('*').alias('trip_count'))\\\n",
    "        .orderBy(col('trip_count').desc())\\\n",
    "        .show(10)"
   ]
  },
  {
   "cell_type": "code",
   "execution_count": 99,
   "id": "b69b62f5-a8b0-4923-a888-f32f4fd03837",
   "metadata": {},
   "outputs": [
    {
     "name": "stdout",
     "output_type": "stream",
     "text": [
      "+-----------------+-------------------+\n",
      "|hvfhs_license_num|trip_count_per_comp|\n",
      "+-----------------+-------------------+\n",
      "|           HV0003|            9836763|\n",
      "|           HV0005|            3219535|\n",
      "|           HV0004|             336606|\n",
      "+-----------------+-------------------+\n",
      "\n"
     ]
    }
   ],
   "source": [
    "#운송사별 운행 건수 비교\n",
    "trip_data.groupBy('hvfhs_license_num')\\\n",
    "        .agg(count('*').alias('trip_count_per_comp'))\\\n",
    "        .orderBy(col('trip_count_per_comp').desc())\\\n",
    "        .show(10)"
   ]
  },
  {
   "cell_type": "code",
   "execution_count": 111,
   "id": "1095f23a-3c42-4c20-b355-6f4016ae8653",
   "metadata": {},
   "outputs": [
    {
     "name": "stdout",
     "output_type": "stream",
     "text": [
      "+-------------+----------+\n",
      "|      Borough|trip_count|\n",
      "+-------------+----------+\n",
      "|    Manhattan|   4953140|\n",
      "|     Brooklyn|   3735764|\n",
      "|       Queens|   2437383|\n",
      "|        Bronx|   2086592|\n",
      "|Staten Island|    178818|\n",
      "|      Unknown|       845|\n",
      "|          EWR|       362|\n",
      "+-------------+----------+\n",
      "\n"
     ]
    }
   ],
   "source": [
    "# 승차 위치 Borough별 운행 건수\n",
    "pickup_zone = trip_data.join(zone_data, trip_data.PULocationID == zone_data.LocationID, 'left')\n",
    "\n",
    "pickup_zone.groupBy('Borough')\\\n",
    "            .agg(count('*').alias('trip_count'))\\\n",
    "            .orderBy(col('trip_count').desc())\\\n",
    "            .show()\n"
   ]
  },
  {
   "cell_type": "code",
   "execution_count": 112,
   "id": "fca083cf-6397-4309-b670-0dca577afcb5",
   "metadata": {},
   "outputs": [
    {
     "name": "stdout",
     "output_type": "stream",
     "text": [
      "+------------+------------+\n",
      "|service_zone|pickup_count|\n",
      "+------------+------------+\n",
      "|   Boro Zone|     9046897|\n",
      "| Yellow Zone|     4025190|\n",
      "|    Airports|      319610|\n",
      "|         N/A|         845|\n",
      "|         EWR|         362|\n",
      "+------------+------------+\n",
      "\n"
     ]
    }
   ],
   "source": [
    "# 서비스 존별 승차/하차 건수\n",
    "\n",
    "# 승차 건수\n",
    "trip_data.join(zone_data, trip_data.PULocationID == zone_data.LocationID, \"left\") \\\n",
    "    .groupBy(\"service_zone\") \\\n",
    "    .agg(count(\"*\").alias(\"pickup_count\")) \\\n",
    "    .orderBy(col(\"pickup_count\").desc()) \\\n",
    "    .show()"
   ]
  },
  {
   "cell_type": "code",
   "execution_count": 114,
   "id": "2bf16a83-01ea-4336-a486-858540ce9f44",
   "metadata": {},
   "outputs": [
    {
     "name": "stdout",
     "output_type": "stream",
     "text": [
      "+------------+------------+\n",
      "|service_zone|pickup_count|\n",
      "+------------+------------+\n",
      "|   Boro Zone|     8885136|\n",
      "| Yellow Zone|     3643787|\n",
      "|    Airports|      411156|\n",
      "|         N/A|      387759|\n",
      "|         EWR|       65066|\n",
      "+------------+------------+\n",
      "\n"
     ]
    }
   ],
   "source": [
    "# 하자 건수 \n",
    "trip_data.join(zone_data, trip_data.DOLocationID == zone_data.LocationID, 'left')\\\n",
    "    .groupBy(\"service_zone\")\\\n",
    "    .agg(count('*').alias('pickup_count'))\\\n",
    "    .orderBy(col('pickup_count').desc())\\\n",
    "    .show(10)\n",
    "\n"
   ]
  },
  {
   "cell_type": "code",
   "execution_count": 115,
   "id": "76ed495e-e41d-4d3c-b956-c5967258cf82",
   "metadata": {},
   "outputs": [],
   "source": [
    "spark.stop()"
   ]
  },
  {
   "cell_type": "code",
   "execution_count": null,
   "id": "960c1296-b56f-416a-9c76-3817cb0ad630",
   "metadata": {},
   "outputs": [],
   "source": []
  }
 ],
 "metadata": {
  "kernelspec": {
   "display_name": "Python 3 (ipykernel)",
   "language": "python",
   "name": "python3"
  },
  "language_info": {
   "codemirror_mode": {
    "name": "ipython",
    "version": 3
   },
   "file_extension": ".py",
   "mimetype": "text/x-python",
   "name": "python",
   "nbconvert_exporter": "python",
   "pygments_lexer": "ipython3",
   "version": "3.11.6"
  }
 },
 "nbformat": 4,
 "nbformat_minor": 5
}
